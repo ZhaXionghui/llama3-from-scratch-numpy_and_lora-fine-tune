{
 "cells": [
  {
   "cell_type": "markdown",
   "metadata": {},
   "source": [
    "# 引言\n",
    "\n",
    "## Transformer\n",
    "\n",
    "<div>\n",
    "    <img src=\"images/transformer.png\" width=\"600\"/>\n",
    "    <img src=\"images/transformer1.png\" width=\"600\"/><br>\n",
    "    <img src=\"images/attention0.png\" width=\"600\"/>\n",
    "    <!-- <img src=\"images/attention0.png\"/> -->\n",
    "</div>"
   ]
  },
  {
   "cell_type": "markdown",
   "metadata": {},
   "source": [
    "# llama3 implemented from scratch using numpy\n",
    "在这个文件中，我使用numpy从头开始实现了 llama3，一次一个张量和矩阵乘法。\n",
    "<br>\n",
    "此外，我将直接从 meta 所提供的 llama3 的模型文件中加载张量，所以运行此文件前需要下载权重。<br>\n",
    "官方权重下载链接： https://llama.meta.com/llama-downloads/<br>\n",
    "numpy实现参考：https://github.com/naklecha/llama3-from-scratch\n",
    "<div>\n",
    "    <img src=\"images/archi.png\"/>\n",
    "</div>"
   ]
  },
  {
   "cell_type": "markdown",
   "metadata": {},
   "source": [
    "## 分词器（tokenizer）\n",
    "im not going to implement a bpe tokenizer (but andrej karpathy has a really clean implementation)<br>\n",
    "这里不实现 bpe 分词器（具体可参考 https://llmbook-zh.github.io/LLMBook.pdf 4.3.1 BPE 分词）。\n",
    "\n",
    "\n",
    "<div>\n",
    "    <img src=\"images/BPE_workflow.png\" width=\"600\"/>\n",
    "</div>\n"
   ]
  },
  {
   "cell_type": "code",
   "execution_count": 785,
   "metadata": {},
   "outputs": [],
   "source": [
    "from pathlib import Path\n",
    "import tiktoken\n",
    "from tiktoken.load import load_tiktoken_bpe\n",
    "import torch\n",
    "import json\n",
    "import matplotlib.pyplot as plt\n",
    "import numpy as np\n",
    "\n",
    "plt.rcParams['font.sans-serif']=['SimHei']\n",
    "plt.rcParams['axes.unicode_minus']=False\n",
    "Model_Home = \"../Meta-Llama-3/Meta-Llama-3-8B/original/\""
   ]
  },
  {
   "cell_type": "code",
   "execution_count": 389,
   "metadata": {},
   "outputs": [],
   "source": [
    "tokenizer_path = Model_Home + \"tokenizer.model\"\n",
    "special_tokens = [\n",
    "            \"<|begin_of_text|>\",\n",
    "            \"<|end_of_text|>\",\n",
    "            \"<|reserved_special_token_0|>\",\n",
    "            \"<|reserved_special_token_1|>\",\n",
    "            \"<|reserved_special_token_2|>\",\n",
    "            \"<|reserved_special_token_3|>\",\n",
    "            \"<|start_header_id|>\",\n",
    "            \"<|end_header_id|>\",\n",
    "            \"<|reserved_special_token_4|>\",\n",
    "            \"<|eot_id|>\",  # end of turn\n",
    "        ] + [f\"<|reserved_special_token_{i}|>\" for i in range(5, 256 - 5)]\n",
    "\n",
    "mergeable_ranks = load_tiktoken_bpe(tokenizer_path)\n",
    "tokenizer = tiktoken.Encoding(\n",
    "    name=Path(tokenizer_path).name,\n",
    "    pat_str=r\"(?i:'s|'t|'re|'ve|'m|'ll|'d)|[^\\r\\n\\p{L}\\p{N}]?\\p{L}+|\\p{N}{1,3}| ?[^\\s\\p{L}\\p{N}]+[\\r\\n]*|\\s*[\\r\\n]+|\\s+(?!\\S)|\\s+\",\n",
    "    mergeable_ranks=mergeable_ranks,\n",
    "    special_tokens={token: len(mergeable_ranks) + i for i, token in enumerate(special_tokens)},\n",
    ")\n"
   ]
  },
  {
   "cell_type": "code",
   "execution_count": 391,
   "metadata": {},
   "outputs": [
    {
     "name": "stdout",
     "output_type": "stream",
     "text": [
      "[15339, 1917, 0]\n"
     ]
    },
    {
     "data": {
      "text/plain": [
       "'hello world!'"
      ]
     },
     "execution_count": 391,
     "metadata": {},
     "output_type": "execute_result"
    }
   ],
   "source": [
    "print(tokenizer.encode(\"hello world!\"))\n",
    "tokenizer.decode(tokenizer.encode(\"hello world!\"))"
   ]
  },
  {
   "cell_type": "markdown",
   "metadata": {},
   "source": [
    "## 读取模型文件\n",
    "通常，阅读此内容就可以看到模型类别的编写方式以及其中的变量名称。\n",
    "<br>\n",
    "因为我们是从头开始实现 llama3，所以我们将一次读取一个张量内容。\n",
    "<div>\n",
    "    <img src=\"images/model.png\" width=\"600\"/>\n",
    "</div>"
   ]
  },
  {
   "cell_type": "code",
   "execution_count": 392,
   "metadata": {},
   "outputs": [
    {
     "name": "stdout",
     "output_type": "stream",
     "text": [
      "[\n",
      "    \"tok_embeddings.weight\",\n",
      "    \"layers.0.attention.wq.weight\",\n",
      "    \"layers.0.attention.wk.weight\",\n",
      "    \"layers.0.attention.wv.weight\",\n",
      "    \"layers.0.attention.wo.weight\",\n",
      "    \"layers.0.feed_forward.w1.weight\",\n",
      "    \"layers.0.feed_forward.w3.weight\",\n",
      "    \"layers.0.feed_forward.w2.weight\",\n",
      "    \"layers.0.attention_norm.weight\",\n",
      "    \"layers.0.ffn_norm.weight\",\n",
      "    \"layers.1.attention.wq.weight\",\n",
      "    \"layers.1.attention.wk.weight\",\n",
      "    \"layers.1.attention.wv.weight\",\n",
      "    \"layers.1.attention.wo.weight\",\n",
      "    \"layers.1.feed_forward.w1.weight\",\n",
      "    \"layers.1.feed_forward.w3.weight\",\n",
      "    \"layers.1.feed_forward.w2.weight\",\n",
      "    \"layers.1.attention_norm.weight\",\n",
      "    \"layers.1.ffn_norm.weight\",\n",
      "    \"layers.2.attention.wq.weight\"\n",
      "]\n"
     ]
    }
   ],
   "source": [
    "model = torch.load(Model_Home +\"consolidated.00.pth\")\n",
    "print(json.dumps(list(model.keys())[:20], indent=4))"
   ]
  },
  {
   "cell_type": "code",
   "execution_count": 796,
   "metadata": {},
   "outputs": [
    {
     "data": {
      "text/plain": [
       "['tok_embeddings.weight',\n",
       " 'layers.0.attention.wq.weight',\n",
       " 'layers.0.attention.wk.weight',\n",
       " 'layers.0.attention.wv.weight',\n",
       " 'layers.0.attention.wo.weight',\n",
       " 'layers.0.feed_forward.w1.weight',\n",
       " 'layers.0.feed_forward.w3.weight',\n",
       " 'layers.0.feed_forward.w2.weight',\n",
       " 'layers.0.attention_norm.weight',\n",
       " 'layers.0.ffn_norm.weight',\n",
       " 'layers.1.attention.wq.weight',\n",
       " 'layers.1.attention.wk.weight',\n",
       " 'layers.1.attention.wv.weight',\n",
       " 'layers.1.attention.wo.weight',\n",
       " 'layers.1.feed_forward.w1.weight',\n",
       " 'layers.1.feed_forward.w3.weight',\n",
       " 'layers.1.feed_forward.w2.weight',\n",
       " 'layers.1.attention_norm.weight',\n",
       " 'layers.1.ffn_norm.weight',\n",
       " 'layers.2.attention.wq.weight',\n",
       " 'layers.2.attention.wk.weight',\n",
       " 'layers.2.attention.wv.weight',\n",
       " 'layers.2.attention.wo.weight',\n",
       " 'layers.2.feed_forward.w1.weight',\n",
       " 'layers.2.feed_forward.w3.weight',\n",
       " 'layers.2.feed_forward.w2.weight',\n",
       " 'layers.2.attention_norm.weight',\n",
       " 'layers.2.ffn_norm.weight',\n",
       " 'layers.3.attention.wq.weight',\n",
       " 'layers.3.attention.wk.weight',\n",
       " 'layers.3.attention.wv.weight',\n",
       " 'layers.3.attention.wo.weight',\n",
       " 'layers.3.feed_forward.w1.weight',\n",
       " 'layers.3.feed_forward.w3.weight',\n",
       " 'layers.3.feed_forward.w2.weight',\n",
       " 'layers.3.attention_norm.weight',\n",
       " 'layers.3.ffn_norm.weight',\n",
       " 'layers.4.attention.wq.weight',\n",
       " 'layers.4.attention.wk.weight',\n",
       " 'layers.4.attention.wv.weight',\n",
       " 'layers.4.attention.wo.weight',\n",
       " 'layers.4.feed_forward.w1.weight',\n",
       " 'layers.4.feed_forward.w3.weight',\n",
       " 'layers.4.feed_forward.w2.weight',\n",
       " 'layers.4.attention_norm.weight',\n",
       " 'layers.4.ffn_norm.weight',\n",
       " 'layers.5.attention.wq.weight',\n",
       " 'layers.5.attention.wk.weight',\n",
       " 'layers.5.attention.wv.weight',\n",
       " 'layers.5.attention.wo.weight',\n",
       " 'layers.5.feed_forward.w1.weight',\n",
       " 'layers.5.feed_forward.w3.weight',\n",
       " 'layers.5.feed_forward.w2.weight',\n",
       " 'layers.5.attention_norm.weight',\n",
       " 'layers.5.ffn_norm.weight',\n",
       " 'layers.6.attention.wq.weight',\n",
       " 'layers.6.attention.wk.weight',\n",
       " 'layers.6.attention.wv.weight',\n",
       " 'layers.6.attention.wo.weight',\n",
       " 'layers.6.feed_forward.w1.weight',\n",
       " 'layers.6.feed_forward.w3.weight',\n",
       " 'layers.6.feed_forward.w2.weight',\n",
       " 'layers.6.attention_norm.weight',\n",
       " 'layers.6.ffn_norm.weight',\n",
       " 'layers.7.attention.wq.weight',\n",
       " 'layers.7.attention.wk.weight',\n",
       " 'layers.7.attention.wv.weight',\n",
       " 'layers.7.attention.wo.weight',\n",
       " 'layers.7.feed_forward.w1.weight',\n",
       " 'layers.7.feed_forward.w3.weight',\n",
       " 'layers.7.feed_forward.w2.weight',\n",
       " 'layers.7.attention_norm.weight',\n",
       " 'layers.7.ffn_norm.weight',\n",
       " 'layers.8.attention.wq.weight',\n",
       " 'layers.8.attention.wk.weight',\n",
       " 'layers.8.attention.wv.weight',\n",
       " 'layers.8.attention.wo.weight',\n",
       " 'layers.8.feed_forward.w1.weight',\n",
       " 'layers.8.feed_forward.w3.weight',\n",
       " 'layers.8.feed_forward.w2.weight',\n",
       " 'layers.8.attention_norm.weight',\n",
       " 'layers.8.ffn_norm.weight',\n",
       " 'layers.9.attention.wq.weight',\n",
       " 'layers.9.attention.wk.weight',\n",
       " 'layers.9.attention.wv.weight',\n",
       " 'layers.9.attention.wo.weight',\n",
       " 'layers.9.feed_forward.w1.weight',\n",
       " 'layers.9.feed_forward.w3.weight',\n",
       " 'layers.9.feed_forward.w2.weight',\n",
       " 'layers.9.attention_norm.weight',\n",
       " 'layers.9.ffn_norm.weight',\n",
       " 'layers.10.attention.wq.weight',\n",
       " 'layers.10.attention.wk.weight',\n",
       " 'layers.10.attention.wv.weight',\n",
       " 'layers.10.attention.wo.weight',\n",
       " 'layers.10.feed_forward.w1.weight',\n",
       " 'layers.10.feed_forward.w3.weight',\n",
       " 'layers.10.feed_forward.w2.weight',\n",
       " 'layers.10.attention_norm.weight',\n",
       " 'layers.10.ffn_norm.weight',\n",
       " 'layers.11.attention.wq.weight',\n",
       " 'layers.11.attention.wk.weight',\n",
       " 'layers.11.attention.wv.weight',\n",
       " 'layers.11.attention.wo.weight',\n",
       " 'layers.11.feed_forward.w1.weight',\n",
       " 'layers.11.feed_forward.w3.weight',\n",
       " 'layers.11.feed_forward.w2.weight',\n",
       " 'layers.11.attention_norm.weight',\n",
       " 'layers.11.ffn_norm.weight',\n",
       " 'layers.12.attention.wq.weight',\n",
       " 'layers.12.attention.wk.weight',\n",
       " 'layers.12.attention.wv.weight',\n",
       " 'layers.12.attention.wo.weight',\n",
       " 'layers.12.feed_forward.w1.weight',\n",
       " 'layers.12.feed_forward.w3.weight',\n",
       " 'layers.12.feed_forward.w2.weight',\n",
       " 'layers.12.attention_norm.weight',\n",
       " 'layers.12.ffn_norm.weight',\n",
       " 'layers.13.attention.wq.weight',\n",
       " 'layers.13.attention.wk.weight',\n",
       " 'layers.13.attention.wv.weight',\n",
       " 'layers.13.attention.wo.weight',\n",
       " 'layers.13.feed_forward.w1.weight',\n",
       " 'layers.13.feed_forward.w3.weight',\n",
       " 'layers.13.feed_forward.w2.weight',\n",
       " 'layers.13.attention_norm.weight',\n",
       " 'layers.13.ffn_norm.weight',\n",
       " 'layers.14.attention.wq.weight',\n",
       " 'layers.14.attention.wk.weight',\n",
       " 'layers.14.attention.wv.weight',\n",
       " 'layers.14.attention.wo.weight',\n",
       " 'layers.14.feed_forward.w1.weight',\n",
       " 'layers.14.feed_forward.w3.weight',\n",
       " 'layers.14.feed_forward.w2.weight',\n",
       " 'layers.14.attention_norm.weight',\n",
       " 'layers.14.ffn_norm.weight',\n",
       " 'layers.15.attention.wq.weight',\n",
       " 'layers.15.attention.wk.weight',\n",
       " 'layers.15.attention.wv.weight',\n",
       " 'layers.15.attention.wo.weight',\n",
       " 'layers.15.feed_forward.w1.weight',\n",
       " 'layers.15.feed_forward.w3.weight',\n",
       " 'layers.15.feed_forward.w2.weight',\n",
       " 'layers.15.attention_norm.weight',\n",
       " 'layers.15.ffn_norm.weight',\n",
       " 'layers.16.attention.wq.weight',\n",
       " 'layers.16.attention.wk.weight',\n",
       " 'layers.16.attention.wv.weight',\n",
       " 'layers.16.attention.wo.weight',\n",
       " 'layers.16.feed_forward.w1.weight',\n",
       " 'layers.16.feed_forward.w3.weight',\n",
       " 'layers.16.feed_forward.w2.weight',\n",
       " 'layers.16.attention_norm.weight',\n",
       " 'layers.16.ffn_norm.weight',\n",
       " 'layers.17.attention.wq.weight',\n",
       " 'layers.17.attention.wk.weight',\n",
       " 'layers.17.attention.wv.weight',\n",
       " 'layers.17.attention.wo.weight',\n",
       " 'layers.17.feed_forward.w1.weight',\n",
       " 'layers.17.feed_forward.w3.weight',\n",
       " 'layers.17.feed_forward.w2.weight',\n",
       " 'layers.17.attention_norm.weight',\n",
       " 'layers.17.ffn_norm.weight',\n",
       " 'layers.18.attention.wq.weight',\n",
       " 'layers.18.attention.wk.weight',\n",
       " 'layers.18.attention.wv.weight',\n",
       " 'layers.18.attention.wo.weight',\n",
       " 'layers.18.feed_forward.w1.weight',\n",
       " 'layers.18.feed_forward.w3.weight',\n",
       " 'layers.18.feed_forward.w2.weight',\n",
       " 'layers.18.attention_norm.weight',\n",
       " 'layers.18.ffn_norm.weight',\n",
       " 'layers.19.attention.wq.weight',\n",
       " 'layers.19.attention.wk.weight',\n",
       " 'layers.19.attention.wv.weight',\n",
       " 'layers.19.attention.wo.weight',\n",
       " 'layers.19.feed_forward.w1.weight',\n",
       " 'layers.19.feed_forward.w3.weight',\n",
       " 'layers.19.feed_forward.w2.weight',\n",
       " 'layers.19.attention_norm.weight',\n",
       " 'layers.19.ffn_norm.weight',\n",
       " 'layers.20.attention.wq.weight',\n",
       " 'layers.20.attention.wk.weight',\n",
       " 'layers.20.attention.wv.weight',\n",
       " 'layers.20.attention.wo.weight',\n",
       " 'layers.20.feed_forward.w1.weight',\n",
       " 'layers.20.feed_forward.w3.weight',\n",
       " 'layers.20.feed_forward.w2.weight',\n",
       " 'layers.20.attention_norm.weight',\n",
       " 'layers.20.ffn_norm.weight',\n",
       " 'layers.21.attention.wq.weight',\n",
       " 'layers.21.attention.wk.weight',\n",
       " 'layers.21.attention.wv.weight',\n",
       " 'layers.21.attention.wo.weight',\n",
       " 'layers.21.feed_forward.w1.weight',\n",
       " 'layers.21.feed_forward.w3.weight',\n",
       " 'layers.21.feed_forward.w2.weight',\n",
       " 'layers.21.attention_norm.weight',\n",
       " 'layers.21.ffn_norm.weight',\n",
       " 'layers.22.attention.wq.weight',\n",
       " 'layers.22.attention.wk.weight',\n",
       " 'layers.22.attention.wv.weight',\n",
       " 'layers.22.attention.wo.weight',\n",
       " 'layers.22.feed_forward.w1.weight',\n",
       " 'layers.22.feed_forward.w3.weight',\n",
       " 'layers.22.feed_forward.w2.weight',\n",
       " 'layers.22.attention_norm.weight',\n",
       " 'layers.22.ffn_norm.weight',\n",
       " 'layers.23.attention.wq.weight',\n",
       " 'layers.23.attention.wk.weight',\n",
       " 'layers.23.attention.wv.weight',\n",
       " 'layers.23.attention.wo.weight',\n",
       " 'layers.23.feed_forward.w1.weight',\n",
       " 'layers.23.feed_forward.w3.weight',\n",
       " 'layers.23.feed_forward.w2.weight',\n",
       " 'layers.23.attention_norm.weight',\n",
       " 'layers.23.ffn_norm.weight',\n",
       " 'layers.24.attention.wq.weight',\n",
       " 'layers.24.attention.wk.weight',\n",
       " 'layers.24.attention.wv.weight',\n",
       " 'layers.24.attention.wo.weight',\n",
       " 'layers.24.feed_forward.w1.weight',\n",
       " 'layers.24.feed_forward.w3.weight',\n",
       " 'layers.24.feed_forward.w2.weight',\n",
       " 'layers.24.attention_norm.weight',\n",
       " 'layers.24.ffn_norm.weight',\n",
       " 'layers.25.attention.wq.weight',\n",
       " 'layers.25.attention.wk.weight',\n",
       " 'layers.25.attention.wv.weight',\n",
       " 'layers.25.attention.wo.weight',\n",
       " 'layers.25.feed_forward.w1.weight',\n",
       " 'layers.25.feed_forward.w3.weight',\n",
       " 'layers.25.feed_forward.w2.weight',\n",
       " 'layers.25.attention_norm.weight',\n",
       " 'layers.25.ffn_norm.weight',\n",
       " 'layers.26.attention.wq.weight',\n",
       " 'layers.26.attention.wk.weight',\n",
       " 'layers.26.attention.wv.weight',\n",
       " 'layers.26.attention.wo.weight',\n",
       " 'layers.26.feed_forward.w1.weight',\n",
       " 'layers.26.feed_forward.w3.weight',\n",
       " 'layers.26.feed_forward.w2.weight',\n",
       " 'layers.26.attention_norm.weight',\n",
       " 'layers.26.ffn_norm.weight',\n",
       " 'layers.27.attention.wq.weight',\n",
       " 'layers.27.attention.wk.weight',\n",
       " 'layers.27.attention.wv.weight',\n",
       " 'layers.27.attention.wo.weight',\n",
       " 'layers.27.feed_forward.w1.weight',\n",
       " 'layers.27.feed_forward.w3.weight',\n",
       " 'layers.27.feed_forward.w2.weight',\n",
       " 'layers.27.attention_norm.weight',\n",
       " 'layers.27.ffn_norm.weight',\n",
       " 'layers.28.attention.wq.weight',\n",
       " 'layers.28.attention.wk.weight',\n",
       " 'layers.28.attention.wv.weight',\n",
       " 'layers.28.attention.wo.weight',\n",
       " 'layers.28.feed_forward.w1.weight',\n",
       " 'layers.28.feed_forward.w3.weight',\n",
       " 'layers.28.feed_forward.w2.weight',\n",
       " 'layers.28.attention_norm.weight',\n",
       " 'layers.28.ffn_norm.weight',\n",
       " 'layers.29.attention.wq.weight',\n",
       " 'layers.29.attention.wk.weight',\n",
       " 'layers.29.attention.wv.weight',\n",
       " 'layers.29.attention.wo.weight',\n",
       " 'layers.29.feed_forward.w1.weight',\n",
       " 'layers.29.feed_forward.w3.weight',\n",
       " 'layers.29.feed_forward.w2.weight',\n",
       " 'layers.29.attention_norm.weight',\n",
       " 'layers.29.ffn_norm.weight',\n",
       " 'layers.30.attention.wq.weight',\n",
       " 'layers.30.attention.wk.weight',\n",
       " 'layers.30.attention.wv.weight',\n",
       " 'layers.30.attention.wo.weight',\n",
       " 'layers.30.feed_forward.w1.weight',\n",
       " 'layers.30.feed_forward.w3.weight',\n",
       " 'layers.30.feed_forward.w2.weight',\n",
       " 'layers.30.attention_norm.weight',\n",
       " 'layers.30.ffn_norm.weight',\n",
       " 'layers.31.attention.wq.weight',\n",
       " 'layers.31.attention.wk.weight',\n",
       " 'layers.31.attention.wv.weight',\n",
       " 'layers.31.attention.wo.weight',\n",
       " 'layers.31.feed_forward.w1.weight',\n",
       " 'layers.31.feed_forward.w3.weight',\n",
       " 'layers.31.feed_forward.w2.weight',\n",
       " 'layers.31.attention_norm.weight',\n",
       " 'layers.31.ffn_norm.weight',\n",
       " 'norm.weight',\n",
       " 'output.weight']"
      ]
     },
     "execution_count": 796,
     "metadata": {},
     "output_type": "execute_result"
    }
   ],
   "source": [
    "list(model.keys())"
   ]
  },
  {
   "cell_type": "code",
   "execution_count": 394,
   "metadata": {},
   "outputs": [
    {
     "data": {
      "text/plain": [
       "{'dim': 4096,\n",
       " 'n_layers': 32,\n",
       " 'n_heads': 32,\n",
       " 'n_kv_heads': 8,\n",
       " 'vocab_size': 128256,\n",
       " 'multiple_of': 1024,\n",
       " 'ffn_dim_multiplier': 1.3,\n",
       " 'norm_eps': 1e-05,\n",
       " 'rope_theta': 500000.0}"
      ]
     },
     "execution_count": 394,
     "metadata": {},
     "output_type": "execute_result"
    }
   ],
   "source": [
    "# 查看模型参数文件\n",
    "with open(Model_Home + \"params.json\", \"r\") as f:\n",
    "    config = json.load(f)\n",
    "config"
   ]
  },
  {
   "cell_type": "markdown",
   "metadata": {},
   "source": [
    "## 我们使用配置文件来推断有关模型的详细信息\n",
    "1. n_layers：该模型有 32 个transformer层\n",
    "2. n_heads：每个多头注意力块有 32 个头\n",
    "3. vocab_size：词汇量大小等等"
   ]
  },
  {
   "cell_type": "code",
   "execution_count": 395,
   "metadata": {},
   "outputs": [],
   "source": [
    "dim = config[\"dim\"]\n",
    "n_layers = config[\"n_layers\"]\n",
    "n_heads = config[\"n_heads\"]\n",
    "n_kv_heads = config[\"n_kv_heads\"]\n",
    "vocab_size = config[\"vocab_size\"]\n",
    "multiple_of = config[\"multiple_of\"]\n",
    "ffn_dim_multiplier = config[\"ffn_dim_multiplier\"]\n",
    "norm_eps = config[\"norm_eps\"]\n",
    "rope_theta = torch.tensor(config[\"rope_theta\"])"
   ]
  },
  {
   "cell_type": "markdown",
   "metadata": {},
   "source": [
    "## 将文本转换为 **词元(tokens)**\n",
    "这里我们使用 tiktoken 的分词器\n",
    "<div>\n",
    "    <img src=\"images/tokens.png\" width=\"600\"/>\n",
    "</div>"
   ]
  },
  {
   "cell_type": "code",
   "execution_count": 797,
   "metadata": {},
   "outputs": [
    {
     "name": "stdout",
     "output_type": "stream",
     "text": [
      "[128000, 7, 16, 10, 16, 8, 482, 220, 17, 489, 220, 16, 489, 220, 16, 28, 220]\n",
      "['<|begin_of_text|>', '(', '1', '+', '1', ')', ' -', ' ', '2', ' +', ' ', '1', ' +', ' ', '1', '=', ' ']\n",
      "17\n"
     ]
    }
   ],
   "source": [
    "# “生命、宇宙和万物的终极问题的答案是”，根据《银河系漫游指南》一书，大多数 LLM 在这里会回答 42，我们用这句话来验证我们的代码\n",
    "# prompt = \"the answer to the ultimate question of life, the universe, and everything is \" # 42\n",
    "# prompt = \"生命、宇宙和万物的终极问题的答案是， \" # 42\n",
    "# prompt = \"(1+1) + 1 + 1 + 1= \" # 5\n",
    "prompt = \"(1+1) - 2 + 1 + 1= \" # 2\n",
    "# prompt = \"(1+1) * 2 + 1 + 1= \" # 5\n",
    "\n",
    "tokens = [128000] + tokenizer.encode(prompt)\n",
    "print(tokens)\n",
    "tokens = torch.tensor(tokens)\n",
    "prompt_split_as_tokens = [tokenizer.decode([token.item()]) for token in tokens]\n",
    "print(prompt_split_as_tokens)\n",
    "print(len(prompt_split_as_tokens))"
   ]
  },
  {
   "cell_type": "markdown",
   "metadata": {},
   "source": [
    "## 将 **词元** 转换为他们的 **嵌入(embedding)**\n",
    "这是这个代码文件中中唯一使用内置神经网络模块的地方的部分\n",
    "<br>\n",
    "我们的 [17x1] 词元现在将变成 [17x4096]，即 17 个嵌入（每个词元）长度为 4096\n",
    "<br>\n",
    "\n",
    "<div>\n",
    "    <img src=\"images/embeddings.png\" width=\"600\"/>\n",
    "</div>"
   ]
  },
  {
   "cell_type": "code",
   "execution_count": 798,
   "metadata": {},
   "outputs": [
    {
     "data": {
      "text/plain": [
       "torch.Size([17, 4096])"
      ]
     },
     "execution_count": 798,
     "metadata": {},
     "output_type": "execute_result"
    }
   ],
   "source": [
    "embedding_layer = torch.nn.Embedding(vocab_size, dim)\n",
    "embedding_layer.weight.data.copy_(model[\"tok_embeddings.weight\"])\n",
    "token_embeddings_unnormalized = embedding_layer(tokens).to(torch.bfloat16)\n",
    "token_embeddings_unnormalized.shape"
   ]
  },
  {
   "cell_type": "markdown",
   "metadata": {},
   "source": [
    "bfloat16 类型是 16 位的浮点数格式，可以用来加速深度学习的计算和存储。bfloat16 类型的特点是保留 32 位浮点数（float32）的 8 位指数部分，但是只有 8 位的有效数字部分（而不是 float32 的 24 位）。这样，bfloat16 类型，可以表示和 float32 类型相同的数值范围，但是精度会降低。bfloat16 类型的优势在于，可以减少内存占用和数据传输的开销，从而提高深度学习模型的训练和推理速度。同时，由于 bfloat16 类型的指数部分和 float32 类型一致，可以更好地处理梯度消失和梯度爆炸的问题，以及在低精度下保持数值稳定性。 ——https://blog.csdn.net/caroline_wendy/article/details/132665807\n",
    "<br>\n",
    "bfloat16 精度的数据不能直接转为 numpy格式，这里我为了尽量减少精度损失就将 bfloat16 的数据转为 float32后再转为 numpy 格式。\n"
   ]
  },
  {
   "cell_type": "code",
   "execution_count": 799,
   "metadata": {},
   "outputs": [],
   "source": [
    "def tensor_to_numpy(tensor):\n",
    "    return tensor.detach().to(torch.float32).numpy()"
   ]
  },
  {
   "cell_type": "code",
   "execution_count": 800,
   "metadata": {},
   "outputs": [
    {
     "name": "stdout",
     "output_type": "stream",
     "text": [
      "(17, 4096)\n"
     ]
    }
   ],
   "source": [
    "token_embeddings_unnormalized = tensor_to_numpy(token_embeddings_unnormalized)\n",
    "print(token_embeddings_unnormalized.shape)\n"
   ]
  },
  {
   "cell_type": "markdown",
   "metadata": {},
   "source": [
    "## 然后，我们使用 RMS 归一化对嵌入进行 **归一化(normalization)**\n",
    "此步骤之后，维度不会改变，只是这些值进行了归一化\n",
    "<br>\n",
    "需要注意的是，我们需要一个norm_eps（来自配置文件）来避免出现将 RMS 设置为 0 的情况， 导致 0 为除数。\n",
    "<br>\n",
    "这是公式：\n",
    "<div>\n",
    "    <img src=\"images/rms.png\" width=\"600\"/>\n",
    "</div>"
   ]
  },
  {
   "cell_type": "code",
   "execution_count": 801,
   "metadata": {},
   "outputs": [],
   "source": [
    "# print(model[\"layers.0.attention_norm.weight\"])\n",
    "# print(model[\"layers.0.attention_norm.weight\"].to(torch.float32).numpy())\n",
    "# print()\n",
    "# print(token_embeddings_unnormalized)\n",
    "# print(token_embeddings_unnormalized.detach().to(torch.float32).numpy())\n",
    "# # print(token_embeddings_unnormalized.shape)\n",
    "# # print(token_embeddings_unnormalized.detach().to(torch.float32).numpy().shape)\n",
    "# tensor_tmp = token_embeddings_unnormalized.pow(2).mean(-1, keepdim=True)\n",
    "# print(tensor_tmp)\n",
    "# ndarry_tmp = np.mean((token_embeddings_unnormalized.detach().to(torch.float32).numpy()) ** 2, axis=-1, keepdims=True)\n",
    "# print(ndarry_tmp)"
   ]
  },
  {
   "cell_type": "code",
   "execution_count": 802,
   "metadata": {},
   "outputs": [],
   "source": [
    "# tensor_tmp = torch.rsqrt((token_embeddings_unnormalized).pow(2).mean(-1, keepdim=True) + norm_eps)\n",
    "# tensor_tmp = token_embeddings_unnormalized * tensor_tmp\n",
    "# tensor_tmp = model[\"layers.0.attention_norm.weight\"] * tensor_tmp\n",
    "# print(tensor_tmp)\n",
    "# ndarry_tmp = np.mean(tensor_to_numpy(token_embeddings_unnormalized) ** 2, axis=-1, keepdims=True)\n",
    "# ndarry_tmp = np.sqrt(ndarry_tmp + norm_eps)\n",
    "# ndarry_tmp = tensor_to_numpy(token_embeddings_unnormalized) / ndarry_tmp\n",
    "# ndarry_tmp = tensor_to_numpy(model[\"layers.0.attention_norm.weight\"]) * ndarry_tmp\n",
    "\n",
    "# print(ndarry_tmp)\n",
    "# print(np.sqrt(ndarry_tmp + norm_eps))\n",
    "# print(np.power((token_embeddings_unnormalized.detach().to(torch.float32).numpy()), 2))"
   ]
  },
  {
   "cell_type": "code",
   "execution_count": 803,
   "metadata": {},
   "outputs": [],
   "source": [
    "# 转换为numpy的函数\n",
    "def rms_norm(tensor_np, norm_weights_np):\n",
    "    # 计算张量的平方平均值\n",
    "    squared_mean = np.mean(tensor_np ** 2, axis=-1, keepdims=True)\n",
    "    # 计算张量的均方根值\n",
    "    rms = np.sqrt(squared_mean + norm_eps)\n",
    "    # 计算归一化权重\n",
    "    normalized_weights = tensor_np * norm_weights_np / rms\n",
    "    return normalized_weights"
   ]
  },
  {
   "cell_type": "markdown",
   "metadata": {},
   "source": [
    "# 构建transformer的第一层\n",
    "\n",
    "### 归一化\n",
    "可以看到 **注意力(Attention)** 块之前需要进行归一化。\n",
    "<br>\n",
    "在归一化后，它的形状仍然 [17x4096] 与嵌入相同。\n",
    "<div>\n",
    "    <img src=\"images/norm.png\" width=\"600\"/>\n",
    "</div>"
   ]
  },
  {
   "cell_type": "code",
   "execution_count": 804,
   "metadata": {},
   "outputs": [
    {
     "name": "stdout",
     "output_type": "stream",
     "text": [
      "(17, 4096)\n"
     ]
    },
    {
     "data": {
      "text/plain": [
       "array([[-9.79977893e-04,  2.87246378e-03, -1.12560857e-02, ...,\n",
       "         2.21605669e-03,  8.27246113e-05,  1.12139166e-03],\n",
       "       [ 2.07671840e-02, -2.97933687e-02, -5.96753322e-02, ...,\n",
       "         9.00298078e-03,  6.18295744e-03, -6.22625314e-02],\n",
       "       [ 2.67123096e-02,  1.18925817e-01,  1.07946686e-01, ...,\n",
       "         1.11780740e-01,  1.92263257e-02, -9.76610463e-03],\n",
       "       ...,\n",
       "       [ 2.67123096e-02,  1.18925817e-01,  1.07946686e-01, ...,\n",
       "         1.11780740e-01,  1.92263257e-02, -9.76610463e-03],\n",
       "       [ 6.67389557e-02, -2.42129579e-01,  2.50804007e-01, ...,\n",
       "         6.16884381e-02, -7.74159580e-02, -6.09905086e-02],\n",
       "       [-1.85866258e-03, -5.30989934e-03,  1.17079005e-01, ...,\n",
       "        -2.33622175e-02,  8.33795127e-03, -5.63916098e-03]], dtype=float32)"
      ]
     },
     "execution_count": 804,
     "metadata": {},
     "output_type": "execute_result"
    }
   ],
   "source": [
    "token_embeddings = rms_norm(token_embeddings_unnormalized, tensor_to_numpy(model[\"layers.0.attention_norm.weight\"]))\n",
    "print(token_embeddings.shape)\n",
    "token_embeddings"
   ]
  },
  {
   "cell_type": "markdown",
   "metadata": {},
   "source": [
    "### 从头开始实现注意力\n",
    "让我们加载 transformer 第一层的注意头\n",
    "<div>\n",
    "    <img src=\"images/qkv.png\" width=\"600\"/>\n",
    "</div>\n",
    "\n",
    "<br>\n",
    "\n",
    "&gt; 从模型加载查询(Q)、键(K)、值(V)和输出(O)向量时，我们注意到形状分别是 [4096x4096]、[1024x4096]、[1024x4096]、[4096x4096]\n",
    "<br>\n",
    "&gt; 乍一看这很奇怪，因为理想情况下，我们希望每个头的每个 q、k、v 和 o 都单独存在，\n",
    "<br>\n",
    "&gt; 代码的作者将它们放在一起，是因为这样便于他后面对注意力的矩阵乘法做并行处理。"
   ]
  },
  {
   "cell_type": "code",
   "execution_count": 805,
   "metadata": {},
   "outputs": [
    {
     "name": "stdout",
     "output_type": "stream",
     "text": [
      "torch.Size([4096, 4096]) torch.Size([1024, 4096]) torch.Size([1024, 4096]) torch.Size([4096, 4096])\n"
     ]
    }
   ],
   "source": [
    "print(\n",
    "    model[\"layers.0.attention.wq.weight\"].shape,\n",
    "    model[\"layers.0.attention.wk.weight\"].shape,\n",
    "    model[\"layers.0.attention.wv.weight\"].shape,\n",
    "    model[\"layers.0.attention.wo.weight\"].shape\n",
    ")"
   ]
  },
  {
   "cell_type": "markdown",
   "metadata": {},
   "source": [
    "### 分解查询\n",
    "下面，我们将从多个注意力头中分解查询，最终得到的形状为 [32x128x4096]\n",
    "<br>\n",
    "其中 32 是 llama3 中的注意力头数，128 是查询向量的大小，4096 是 词元嵌入(token embedding) 的大小"
   ]
  },
  {
   "cell_type": "code",
   "execution_count": 806,
   "metadata": {},
   "outputs": [
    {
     "name": "stdout",
     "output_type": "stream",
     "text": [
      "(32, 128, 4096)\n"
     ]
    }
   ],
   "source": [
    "q_layer0 = tensor_to_numpy(model[\"layers.0.attention.wq.weight\"])\n",
    "head_dim = q_layer0.shape[0] // n_heads\n",
    "q_layer0 = q_layer0.reshape(n_heads, head_dim, dim)\n",
    "\n",
    "print(q_layer0.shape)\n",
    "# q_layer0"
   ]
  },
  {
   "cell_type": "markdown",
   "metadata": {},
   "source": [
    "### 这里先实现第一层的第一个头\n",
    "这里我访问第一层的第一头的查询权重矩阵，这个查询权重矩阵的大小是[128x4096]"
   ]
  },
  {
   "cell_type": "code",
   "execution_count": 807,
   "metadata": {},
   "outputs": [
    {
     "data": {
      "text/plain": [
       "(128, 4096)"
      ]
     },
     "execution_count": 807,
     "metadata": {},
     "output_type": "execute_result"
    }
   ],
   "source": [
    "q_layer0_head0 = q_layer0[0]\n",
    "q_layer0_head0.shape"
   ]
  },
  {
   "cell_type": "markdown",
   "metadata": {},
   "source": [
    "### 现在，我们将查询权重与词元嵌入相乘，以获得对词元的查询\n",
    "这里可以看到生成的形状是 [17x128]，这是因为我们有 17 个词元，每个词元都有一个 128 长度的查询。\n",
    "<div>\n",
    "    <img src=\"images/q_per_token.png\" width=\"600\"/>\n",
    "</div>"
   ]
  },
  {
   "cell_type": "code",
   "execution_count": 808,
   "metadata": {},
   "outputs": [
    {
     "name": "stdout",
     "output_type": "stream",
     "text": [
      "(17, 128)\n",
      "[[-0.0754397  -0.10875705  0.27185252 ...  0.5089048   0.17500934\n",
      "   0.08437597]\n",
      " [ 0.70285165  0.06936354  2.0636885  ...  1.078353    0.6119809\n",
      "   0.3748193 ]\n",
      " [ 0.17687635 -0.2447137   0.37319994 ...  0.63572824  0.7268566\n",
      "   0.99263793]\n",
      " ...\n",
      " [ 0.17687635 -0.2447137   0.37319994 ...  0.63572824  0.7268566\n",
      "   0.99263793]\n",
      " [ 0.7768667   0.05523063  2.1002913  ...  1.0456854   0.7605667\n",
      "   0.5235697 ]\n",
      " [ 0.6433331  -0.0409137   1.5277781  ...  1.1688333   0.6870406\n",
      "   0.2592557 ]]\n"
     ]
    }
   ],
   "source": [
    "q_per_token = np.matmul(token_embeddings, q_layer0_head0.T)\n",
    "print(q_per_token.shape)\n",
    "print(q_per_token)"
   ]
  },
  {
   "cell_type": "code",
   "execution_count": 809,
   "metadata": {},
   "outputs": [],
   "source": [
    "# q_per_token = torch.matmul(token_embeddings, q_layer0_head0.T)\n",
    "# q_per_token_np = np.matmul(tensor_to_numpy(token_embeddings),tensor_to_numpy(q_layer0_head0.T))\n",
    "# print(q_per_token.shape)\n",
    "# print(q_per_token_np.shape)\n",
    "# print(q_per_token)\n",
    "# print(q_per_token_np)"
   ]
  },
  {
   "cell_type": "markdown",
   "metadata": {},
   "source": [
    "## positioning encoding 位置编码\n",
    "我们在 **提示词(prompt)** 中为每个词元都有一个 查询向量，但如果仔细想想，个性化查询向量是不知道它在提示词中的位置的。\n",
    "<br><br>\n",
    "query: \"the answer to the ultimate question of life, the universe, and everything is \"\n",
    "<br><br>\n",
    "在提示词中，我们使用了 “the” 三次，我们需要这 3 个 “the” 标记的查询向量根据它们在查询中的位置生成不同的查询向量（每个大小为 [1x128]）。我们使用 RoPE（rotory positional embedding）执行这些旋转。\n",
    "<br><br>\n",
    "### RoPE\n",
    "watch this video to understand the math.\n",
    "https://www.youtube.com/watch?v=o29P0Kpobz0&t=530s<br>\n",
    "或者参考 https://llmbook-zh.github.io/LLMBook.pdf 5.2.4 位置编码 旋转位置编码（Rotary Position Embedding, RoPE）<br>\n",
    "https://www.bilibili.com/video/BV1Mj421R7JQ/?share_source=copy_web&vd_source=8273fa0864fcbeeb50b8506821625874\n",
    "<div>\n",
    "    <img src=\"images/rope.png\" width=\"600\"/><br>\n",
    "    <img src=\"images/rope1.png\" width=\"600\"/>\n",
    "</div>"
   ]
  },
  {
   "cell_type": "code",
   "execution_count": 810,
   "metadata": {},
   "outputs": [
    {
     "name": "stdout",
     "output_type": "stream",
     "text": [
      "(17, 64, 2)\n"
     ]
    }
   ],
   "source": [
    "q_per_token_split_into_pairs = q_per_token.reshape(q_per_token.shape[0], -1, 2)\n",
    "print(q_per_token_split_into_pairs.shape)\n",
    "# q_per_token_split_into_pairs"
   ]
  },
  {
   "cell_type": "code",
   "execution_count": 811,
   "metadata": {},
   "outputs": [],
   "source": [
    "# q_per_token_split_into_pairs = q_per_token.float().view(q_per_token.shape[0], -1, 2)\n",
    "# # 转为numpy 写法\n",
    "# q_per_token_split_into_pairs_np = q_per_token_np.reshape(q_per_token_np.shape[0],-1,2)\n",
    "# # .view(q_per_token_np.shape[0], -1, 2)\n",
    "# q_per_token_split_into_pairs.shape\n",
    "# # q_per_token_split_into_pairs\n",
    "# q_per_token_split_into_pairs_np.shape\n",
    "# q_per_token_split_into_pairs_np"
   ]
  },
  {
   "cell_type": "markdown",
   "metadata": {},
   "source": [
    "在上面的步骤中，我们将查询向量拆分为对，我们对每对应用旋转角度偏移！\n",
    "<br><br>\n",
    "我们现在有一个大小为 [17x64x2] 的向量，这是提示词中每个词元的 128 长度的查询，被分为了 64 对。这 64 对中的每一对都将由 m*（theta） 旋转，其中 m 是我们旋转查询的token的位置！\n",
    "\n",
    "<div>\n",
    "    <img src=\"images/qsplit.png\" width=\"600\"/>\n",
    "</div>"
   ]
  },
  {
   "cell_type": "markdown",
   "metadata": {},
   "source": [
    "## 使用复数的点积来旋转向量\n",
    "<div>\n",
    "    <img src=\"images/freq_cis.png\" width=\"600\"/>\n",
    "</div>"
   ]
  },
  {
   "cell_type": "code",
   "execution_count": 812,
   "metadata": {},
   "outputs": [
    {
     "name": "stdout",
     "output_type": "stream",
     "text": [
      "[0.       0.015625 0.03125  0.046875 0.0625   0.078125 0.09375  0.109375\n",
      " 0.125    0.140625 0.15625  0.171875 0.1875   0.203125 0.21875  0.234375\n",
      " 0.25     0.265625 0.28125  0.296875 0.3125   0.328125 0.34375  0.359375\n",
      " 0.375    0.390625 0.40625  0.421875 0.4375   0.453125 0.46875  0.484375\n",
      " 0.5      0.515625 0.53125  0.546875 0.5625   0.578125 0.59375  0.609375\n",
      " 0.625    0.640625 0.65625  0.671875 0.6875   0.703125 0.71875  0.734375\n",
      " 0.75     0.765625 0.78125  0.796875 0.8125   0.828125 0.84375  0.859375\n",
      " 0.875    0.890625 0.90625  0.921875 0.9375   0.953125 0.96875  0.984375]\n"
     ]
    }
   ],
   "source": [
    "zero_to_one_split_into_64_parts = np.array(range(64))/64\n",
    "print(zero_to_one_split_into_64_parts)"
   ]
  },
  {
   "cell_type": "code",
   "execution_count": 813,
   "metadata": {},
   "outputs": [],
   "source": [
    "# zero_to_one_split_into_64_parts = torch.tensor(range(64))/64\n",
    "# print(zero_to_one_split_into_64_parts)\n",
    "# print(type(zero_to_one_split_into_64_parts))\n",
    "# zero_to_one_split_into_64_parts_np = np.array(range(64))/64\n",
    "# print(zero_to_one_split_into_64_parts_np)\n",
    "# print(type(zero_to_one_split_into_64_parts_np))"
   ]
  },
  {
   "cell_type": "code",
   "execution_count": 814,
   "metadata": {},
   "outputs": [
    {
     "name": "stdout",
     "output_type": "stream",
     "text": [
      "[1.00000000e+00 8.14617234e-01 6.63601238e-01 5.40581005e-01\n",
      " 4.40366603e-01 3.58730224e-01 2.92227823e-01 2.38053820e-01\n",
      " 1.93922745e-01 1.57972810e-01 1.28687373e-01 1.04830952e-01\n",
      " 8.53971003e-02 6.95659496e-02 5.66696214e-02 4.61640503e-02\n",
      " 3.76060309e-02 3.06345209e-02 2.49554087e-02 2.03291060e-02\n",
      " 1.65604401e-02 1.34904199e-02 1.09895285e-02 8.95225934e-03\n",
      " 7.29266474e-03 5.94073038e-03 4.83942135e-03 3.94227603e-03\n",
      " 3.21144599e-03 2.61609925e-03 2.13111954e-03 1.73604670e-03\n",
      " 1.41421356e-03 1.15204274e-03 9.38473870e-04 7.64496988e-04\n",
      " 6.22772422e-04 5.07321148e-04 4.13272550e-04 3.36658941e-04\n",
      " 2.74248176e-04 2.23407290e-04 1.81991429e-04 1.48253354e-04\n",
      " 1.20769737e-04 9.83811094e-05 8.01429472e-05 6.52858260e-05\n",
      " 5.31829590e-05 4.33237549e-05 3.52922774e-05 2.87496974e-05\n",
      " 2.34199990e-05 1.90783348e-05 1.55415403e-05 1.26604066e-05\n",
      " 1.03133854e-05 8.40146147e-06 6.84397530e-06 5.57522023e-06\n",
      " 4.54167048e-06 3.69972304e-06 3.01385815e-06 2.45514079e-06]\n",
      "(64,)\n"
     ]
    }
   ],
   "source": [
    "freqs = 1.0 / (tensor_to_numpy(rope_theta) ** zero_to_one_split_into_64_parts)\n",
    "print(freqs)\n",
    "print(freqs.shape)"
   ]
  },
  {
   "cell_type": "code",
   "execution_count": 815,
   "metadata": {},
   "outputs": [
    {
     "data": {
      "text/plain": [
       "(17, 64)"
      ]
     },
     "execution_count": 815,
     "metadata": {},
     "output_type": "execute_result"
    }
   ],
   "source": [
    "# 计算外积\n",
    "freqs_for_each_token = np.outer(np.arange(17), freqs)\n",
    "freqs_cis = np.ones_like(freqs_for_each_token) * np.exp(1j * freqs_for_each_token)\n",
    "freqs_cis.shape"
   ]
  },
  {
   "cell_type": "code",
   "execution_count": 816,
   "metadata": {},
   "outputs": [
    {
     "data": {
      "text/plain": [
       "array([-0.9899925 +0.14112001j, -0.76629555+0.64248823j,\n",
       "       -0.4077672 +0.91308593j, -0.05092465+0.9987025j ,\n",
       "        0.2471099 +0.96898746j,  0.4746846 +0.88015597j,\n",
       "        0.63970382+0.76862151j,  0.75564274+0.65498401j,\n",
       "        0.83549231+0.54950214j,  0.88978685+0.45637635j,\n",
       "        0.92639902+0.3765433j ,  0.95095338+0.30933424j,\n",
       "        0.96736211+0.25339801j,  0.97830153+0.20718618j,\n",
       "        0.98558327+0.16919109j,  0.99042528+0.13804986j,\n",
       "        0.99364279+0.11257892j])"
      ]
     },
     "execution_count": 816,
     "metadata": {},
     "output_type": "execute_result"
    }
   ],
   "source": [
    "freqs_cis[3][:17]"
   ]
  },
  {
   "cell_type": "code",
   "execution_count": 817,
   "metadata": {},
   "outputs": [
    {
     "data": {
      "image/png": "[encoded data removed]",
      "text/plain": [
       "<Figure size 640x480 with 1 Axes>"
      ]
     },
     "metadata": {},
     "output_type": "display_data"
    }
   ],
   "source": [
    "# 查看 freqs_cis 的第三行\n",
    "value = freqs_cis[3]\n",
    "plt.figure()\n",
    "for i, element in enumerate(value[:17]):\n",
    "    # element.real横坐标值，表示实部, element.imag纵坐标值，表示虚部。。\n",
    "    plt.plot([0, element.real], [0, element.imag], color='blue', linewidth=1, label=f\"Index: {i}\")\n",
    "    plt.annotate(f\"{i}\", xy=(element.real, element.imag), color='red')\n",
    "plt.xlabel('Real')\n",
    "plt.ylabel('Imaginary')\n",
    "plt.title('Plot of one row of freqs_cis')\n",
    "plt.show()"
   ]
  },
  {
   "cell_type": "markdown",
   "metadata": {},
   "source": [
    "### 现在，每个词元的查询元素都有一个复数（角度变化向量）表示\n",
    "我们可以将查询（我们拆分为成对的查询）转换为复数，然后根据位置利用点积来旋转 query。"
   ]
  },
  {
   "cell_type": "code",
   "execution_count": 818,
   "metadata": {},
   "outputs": [],
   "source": [
    "# 将向量转为复数表示\n",
    "def view_as_complex(real_np):\n",
    "    shape = real_np.shape\n",
    "    # 确保最后一个维度是2，表示实部和虚部\n",
    "    if shape[-1]!=2:\n",
    "        raise ValueError(\"Last dimension size must be 2 to represent real and imaginary parts.\")\n",
    "    # 将最后一个维度合并为复数表示\n",
    "    complex_np =real_np[...,0] + 1j * real_np[..., 1]\n",
    "    return complex_np"
   ]
  },
  {
   "cell_type": "code",
   "execution_count": 819,
   "metadata": {},
   "outputs": [
    {
     "data": {
      "text/plain": [
       "(17, 64)"
      ]
     },
     "execution_count": 819,
     "metadata": {},
     "output_type": "execute_result"
    }
   ],
   "source": [
    "# 转为复数表示\n",
    "q_per_token_as_complex_numbers = view_as_complex(q_per_token_split_into_pairs)\n",
    "q_per_token_as_complex_numbers.shape"
   ]
  },
  {
   "cell_type": "code",
   "execution_count": 820,
   "metadata": {},
   "outputs": [
    {
     "data": {
      "text/plain": [
       "array([[-0.0754397 -0.10875705j,  0.27185252-0.21116523j,\n",
       "         0.2641937 -0.37335274j, ...,  0.19324124-0.17202586j,\n",
       "         0.1764547 +0.5089048j ,  0.17500934+0.08437597j],\n",
       "       [ 0.70285165+0.06936354j,  2.0636885 -0.936924j  ,\n",
       "         1.4372531 -2.0994408j , ...,  0.5442188 -0.12263928j,\n",
       "         0.55806845+1.078353j  ,  0.6119809 +0.3748193j ],\n",
       "       [ 0.17687635-0.2447137j ,  0.37319994-0.65336484j,\n",
       "         0.5938763 -0.873073j  , ..., -0.13144921-0.20891535j,\n",
       "         0.6322495 +0.63572824j,  0.7268566 +0.99263793j],\n",
       "       ...,\n",
       "       [ 0.17687635-0.2447137j ,  0.37319994-0.65336484j,\n",
       "         0.5938763 -0.873073j  , ..., -0.13144921-0.20891535j,\n",
       "         0.6322495 +0.63572824j,  0.7268566 +0.99263793j],\n",
       "       [ 0.7768667 +0.05523063j,  2.1002913 -0.99491274j,\n",
       "         1.4716086 -2.0712147j , ...,  0.60202795-0.20747076j,\n",
       "         0.5676714 +1.0456854j ,  0.7605667 +0.5235697j ],\n",
       "       [ 0.6433331 -0.0409137j ,  1.5277781 -0.95719326j,\n",
       "         1.1521351 -1.6244192j , ...,  0.3923679 -0.47156j   ,\n",
       "         0.5395532 +1.1688333j ,  0.6870406 +0.2592557j ]],\n",
       "      dtype=complex64)"
      ]
     },
     "execution_count": 820,
     "metadata": {},
     "output_type": "execute_result"
    }
   ],
   "source": [
    "q_per_token_as_complex_numbers"
   ]
  },
  {
   "cell_type": "code",
   "execution_count": 821,
   "metadata": {},
   "outputs": [
    {
     "data": {
      "text/plain": [
       "(17, 64)"
      ]
     },
     "execution_count": 821,
     "metadata": {},
     "output_type": "execute_result"
    }
   ],
   "source": [
    "# 旋转\n",
    "q_per_token_as_complex_numbers_rotated = q_per_token_as_complex_numbers * freqs_cis\n",
    "q_per_token_as_complex_numbers_rotated.shape"
   ]
  },
  {
   "cell_type": "markdown",
   "metadata": {},
   "source": [
    "### 获得旋转向量后\n",
    "我们需要将复数转为实数查询"
   ]
  },
  {
   "cell_type": "code",
   "execution_count": 822,
   "metadata": {},
   "outputs": [],
   "source": [
    "# 将向量转为实数表示\n",
    "def view_as_real(complex_np):\n",
    "    # 获取复数张量的形状\n",
    "    shape = complex_np.shape\n",
    "    # 创建一个形状为 (...,2) 的新数组，用于存储实部和虚部\n",
    "    # real_np = np.zeros(shape + (2,), dtype=complex_np.dtype)\n",
    "    real_np = np.zeros(shape + (2,), dtype=float)\n",
    "    # 将复数数组的实部和虚部分别存储到新数组的最后一个维度\n",
    "    real_np[..., 0] = np.real(complex_np)\n",
    "    real_np[..., 1] = np.imag(complex_np)\n",
    "    return real_np"
   ]
  },
  {
   "cell_type": "code",
   "execution_count": 823,
   "metadata": {},
   "outputs": [
    {
     "data": {
      "text/plain": [
       "(17, 64, 2)"
      ]
     },
     "execution_count": 823,
     "metadata": {},
     "output_type": "execute_result"
    }
   ],
   "source": [
    "# 转为实数表示\n",
    "q_per_token_split_into_pairs_rotated = view_as_real(q_per_token_as_complex_numbers_rotated)\n",
    "q_per_token_split_into_pairs_rotated.shape"
   ]
  },
  {
   "cell_type": "code",
   "execution_count": 824,
   "metadata": {},
   "outputs": [
    {
     "data": {
      "text/plain": [
       "array([[[-0.0754397 , -0.10875705],\n",
       "        [ 0.27185252, -0.21116523],\n",
       "        [ 0.26419371, -0.37335274],\n",
       "        ...,\n",
       "        [ 0.19324124, -0.17202586],\n",
       "        [ 0.17645469,  0.50890481],\n",
       "        [ 0.17500934,  0.08437597]],\n",
       "\n",
       "       [[ 0.32138496,  0.62890655],\n",
       "        [ 2.09757101,  0.8583896 ],\n",
       "        [ 2.425405  , -0.76860837],\n",
       "        ...,\n",
       "        [ 0.54421923, -0.12263726],\n",
       "        [ 0.5580652 ,  1.07835473],\n",
       "        [ 0.61197999,  0.37482081]],\n",
       "\n",
       "       [[ 0.148911  ,  0.26267004],\n",
       "        [ 0.63045283,  0.41072258],\n",
       "        [ 0.9905358 ,  0.3657654 ],\n",
       "        ...,\n",
       "        [-0.13144766, -0.20891633],\n",
       "        [ 0.63224564,  0.63573205],\n",
       "        [ 0.72685172,  0.9926415 ]],\n",
       "\n",
       "       ...,\n",
       "\n",
       "       [[ 0.26660077,  0.14175354],\n",
       "        [-0.45101566, -0.60228621],\n",
       "        [-0.4715698 ,  0.94475786],\n",
       "        ...,\n",
       "        [-0.13143839, -0.20892216],\n",
       "        [ 0.63222265,  0.63575492],\n",
       "        [ 0.72682247,  0.99266292]],\n",
       "\n",
       "       [[-0.62609203,  0.46322891],\n",
       "        [ 1.63657491, -1.65005978],\n",
       "        [-2.31598961,  1.04487049],\n",
       "        ...,\n",
       "        [ 0.60203947, -0.20743735],\n",
       "        [ 0.56762414,  1.04571107],\n",
       "        [ 0.76054743,  0.52359771]],\n",
       "\n",
       "       [[-0.62787321, -0.14603634],\n",
       "        [ 1.79520975, -0.16597271],\n",
       "        [-1.93493102, -0.47137573],\n",
       "        ...,\n",
       "        [ 0.39239581, -0.47153677],\n",
       "        [ 0.53949686,  1.16885927],\n",
       "        [ 0.68703044,  0.2592827 ]]])"
      ]
     },
     "execution_count": 824,
     "metadata": {},
     "output_type": "execute_result"
    }
   ],
   "source": [
    "q_per_token_split_into_pairs_rotated"
   ]
  },
  {
   "cell_type": "markdown",
   "metadata": {},
   "source": [
    "旋转的查询对现在被合并，我们可以获得一个新的查询向量（旋转的查询向量），其形状为 [17x128]，其中 17 是词元(token)数，128 是查询向量的维度。\n"
   ]
  },
  {
   "cell_type": "code",
   "execution_count": 825,
   "metadata": {},
   "outputs": [
    {
     "data": {
      "text/plain": [
       "(17, 128)"
      ]
     },
     "execution_count": 825,
     "metadata": {},
     "output_type": "execute_result"
    }
   ],
   "source": [
    "# 合并为新的查询\n",
    "q_per_token_rotated = q_per_token_split_into_pairs_rotated.reshape(q_per_token.shape)\n",
    "q_per_token_rotated.shape"
   ]
  },
  {
   "cell_type": "markdown",
   "metadata": {},
   "source": [
    "# 键（与查询几乎相同）\n",
    "<div>\n",
    "    <img src=\"images/keys.png\" width=\"600px\"/>\n",
    "</div>\n",
    "\n",
    "<br>\n",
    "&gt; 键生成键向量的维度也是 128 \n",
    "<br>\n",
    "&gt; 键的权重数只有查询的 1/4，这是因为键的权重一次性共享在 4 个头上， 以减少所需的计算的次数。\n",
    "<br>\n",
    "&gt; 就像查询一样，键也会被旋转以添加位置信息。"
   ]
  },
  {
   "cell_type": "code",
   "execution_count": 826,
   "metadata": {},
   "outputs": [
    {
     "data": {
      "text/plain": [
       "(8, 128, 4096)"
      ]
     },
     "execution_count": 826,
     "metadata": {},
     "output_type": "execute_result"
    }
   ],
   "source": [
    "# 对键的每个头进行拆分\n",
    "k_layer0 = tensor_to_numpy(model[\"layers.0.attention.wk.weight\"])\n",
    "k_layer0 = k_layer0.reshape(n_kv_heads, k_layer0.shape[0] // n_kv_heads, dim)\n",
    "k_layer0.shape"
   ]
  },
  {
   "cell_type": "code",
   "execution_count": 827,
   "metadata": {},
   "outputs": [
    {
     "data": {
      "text/plain": [
       "(128, 4096)"
      ]
     },
     "execution_count": 827,
     "metadata": {},
     "output_type": "execute_result"
    }
   ],
   "source": [
    "k_layer0_head0 = k_layer0[0]\n",
    "k_layer0_head0.shape"
   ]
  },
  {
   "cell_type": "code",
   "execution_count": 828,
   "metadata": {},
   "outputs": [
    {
     "data": {
      "text/plain": [
       "(17, 128)"
      ]
     },
     "execution_count": 828,
     "metadata": {},
     "output_type": "execute_result"
    }
   ],
   "source": [
    "# 与词元嵌入相乘\n",
    "k_per_token = np.matmul(token_embeddings, k_layer0_head0.T)\n",
    "k_per_token.shape"
   ]
  },
  {
   "cell_type": "code",
   "execution_count": 829,
   "metadata": {},
   "outputs": [
    {
     "data": {
      "text/plain": [
       "(17, 64, 2)"
      ]
     },
     "execution_count": 829,
     "metadata": {},
     "output_type": "execute_result"
    }
   ],
   "source": [
    "# 转换维度\n",
    "k_per_token_split_into_pairs = k_per_token.reshape(k_per_token.shape[0], -1, 2)\n",
    "k_per_token_split_into_pairs.shape"
   ]
  },
  {
   "cell_type": "code",
   "execution_count": 830,
   "metadata": {},
   "outputs": [
    {
     "data": {
      "text/plain": [
       "(17, 64)"
      ]
     },
     "execution_count": 830,
     "metadata": {},
     "output_type": "execute_result"
    }
   ],
   "source": [
    "# 复数表示\n",
    "k_per_token_as_complex_numbers = view_as_complex(k_per_token_split_into_pairs)\n",
    "k_per_token_as_complex_numbers.shape"
   ]
  },
  {
   "cell_type": "code",
   "execution_count": 831,
   "metadata": {},
   "outputs": [
    {
     "data": {
      "text/plain": [
       "(17, 64, 2)"
      ]
     },
     "execution_count": 831,
     "metadata": {},
     "output_type": "execute_result"
    }
   ],
   "source": [
    "# 旋转并转为实数表示\n",
    "k_per_token_split_into_pairs_rotated = view_as_real(k_per_token_as_complex_numbers * freqs_cis)\n",
    "k_per_token_split_into_pairs_rotated.shape"
   ]
  },
  {
   "cell_type": "code",
   "execution_count": 832,
   "metadata": {},
   "outputs": [
    {
     "data": {
      "text/plain": [
       "(17, 128)"
      ]
     },
     "execution_count": 832,
     "metadata": {},
     "output_type": "execute_result"
    }
   ],
   "source": [
    "# 合并为新的键\n",
    "k_per_token_rotated = k_per_token_split_into_pairs_rotated.reshape(k_per_token.shape)\n",
    "k_per_token_rotated.shape"
   ]
  },
  {
   "cell_type": "markdown",
   "metadata": {},
   "source": [
    "## 在此阶段，现在每个词元(toekn)都具有旋转后的查询和键。\n",
    "<div>\n",
    "    <img src=\"images/keys0.png\" width=\"600px\"/>\n",
    "</div>\n",
    "每个查询和键的形状都是 [17x128] 。"
   ]
  },
  {
   "cell_type": "markdown",
   "metadata": {},
   "source": [
    "## 在下一步中，我们需要将查询和键的矩阵相乘\n",
    "这样做我们会获得每个词元(toekn)之间相互映射的分数。\n",
    "<br>\n",
    "这个分数描述了每个词元(toekn)的查询与每个词元(toekn)的键的相关性。 **这就是自注意力**\n",
    "<br>\n",
    "注意力得分矩阵 （qk_per_token） 的形状为 [17x17]，其中 17 是提示词中的词元(token)数\n",
    "<div>\n",
    "    <img src=\"images/qkmatmul.png\" width=\"600px\"/>\n",
    "</div>"
   ]
  },
  {
   "cell_type": "code",
   "execution_count": 833,
   "metadata": {},
   "outputs": [
    {
     "data": {
      "text/plain": [
       "(17, 17)"
      ]
     },
     "execution_count": 833,
     "metadata": {},
     "output_type": "execute_result"
    }
   ],
   "source": [
    "qk_per_token = np.matmul(q_per_token_rotated, k_per_token_rotated.T)/(head_dim)**0.5\n",
    "qk_per_token.shape"
   ]
  },
  {
   "cell_type": "markdown",
   "metadata": {},
   "source": [
    "# 现在，我们需要屏蔽查询(Q)、键(K)的分数\n",
    "在 llama3 的训练过程中，未来的词元(toekn)的 QK 分数是被屏蔽的。\n",
    "<br>\n",
    "这是因为在训练过程中，我们只学习使用过去的词元(toekn)来预测词元(toekn)。\n",
    "<br>\n",
    "因此，在推理过程中，我们将未来词元(toekn)设置为零。\n",
    "<div>\n",
    "    <img src=\"images/mask.png\" width=\"600px\"/>\n",
    "</div>"
   ]
  },
  {
   "cell_type": "code",
   "execution_count": 834,
   "metadata": {},
   "outputs": [
    {
     "data": {
      "image/png": "[encoded data removed]",
      "text/plain": [
       "<Figure size 640x480 with 2 Axes>"
      ]
     },
     "metadata": {},
     "output_type": "display_data"
    }
   ],
   "source": [
    "def display_qk_heatmap(qk_per_token):\n",
    "    _, ax = plt.subplots()\n",
    "    im = ax.imshow(qk_per_token, cmap='viridis')\n",
    "    ax.set_xticks(range(len(prompt_split_as_tokens)))\n",
    "    ax.set_yticks(range(len(prompt_split_as_tokens)))\n",
    "    ax.set_xticklabels(prompt_split_as_tokens)\n",
    "    ax.set_yticklabels(prompt_split_as_tokens)\n",
    "    ax.figure.colorbar(im, ax=ax)\n",
    "    \n",
    "display_qk_heatmap(qk_per_token)"
   ]
  },
  {
   "cell_type": "code",
   "execution_count": 835,
   "metadata": {},
   "outputs": [
    {
     "name": "stdout",
     "output_type": "stream",
     "text": [
      "(17, 17)\n",
      "[[  0. -inf -inf -inf -inf -inf -inf -inf -inf -inf -inf -inf -inf -inf\n",
      "  -inf -inf -inf]\n",
      " [  0.   0. -inf -inf -inf -inf -inf -inf -inf -inf -inf -inf -inf -inf\n",
      "  -inf -inf -inf]\n",
      " [  0.   0.   0. -inf -inf -inf -inf -inf -inf -inf -inf -inf -inf -inf\n",
      "  -inf -inf -inf]\n",
      " [  0.   0.   0.   0. -inf -inf -inf -inf -inf -inf -inf -inf -inf -inf\n",
      "  -inf -inf -inf]\n",
      " [  0.   0.   0.   0.   0. -inf -inf -inf -inf -inf -inf -inf -inf -inf\n",
      "  -inf -inf -inf]\n",
      " [  0.   0.   0.   0.   0.   0. -inf -inf -inf -inf -inf -inf -inf -inf\n",
      "  -inf -inf -inf]\n",
      " [  0.   0.   0.   0.   0.   0.   0. -inf -inf -inf -inf -inf -inf -inf\n",
      "  -inf -inf -inf]\n",
      " [  0.   0.   0.   0.   0.   0.   0.   0. -inf -inf -inf -inf -inf -inf\n",
      "  -inf -inf -inf]\n",
      " [  0.   0.   0.   0.   0.   0.   0.   0.   0. -inf -inf -inf -inf -inf\n",
      "  -inf -inf -inf]\n",
      " [  0.   0.   0.   0.   0.   0.   0.   0.   0.   0. -inf -inf -inf -inf\n",
      "  -inf -inf -inf]\n",
      " [  0.   0.   0.   0.   0.   0.   0.   0.   0.   0.   0. -inf -inf -inf\n",
      "  -inf -inf -inf]\n",
      " [  0.   0.   0.   0.   0.   0.   0.   0.   0.   0.   0.   0. -inf -inf\n",
      "  -inf -inf -inf]\n",
      " [  0.   0.   0.   0.   0.   0.   0.   0.   0.   0.   0.   0.   0. -inf\n",
      "  -inf -inf -inf]\n",
      " [  0.   0.   0.   0.   0.   0.   0.   0.   0.   0.   0.   0.   0.   0.\n",
      "  -inf -inf -inf]\n",
      " [  0.   0.   0.   0.   0.   0.   0.   0.   0.   0.   0.   0.   0.   0.\n",
      "    0. -inf -inf]\n",
      " [  0.   0.   0.   0.   0.   0.   0.   0.   0.   0.   0.   0.   0.   0.\n",
      "    0.   0. -inf]\n",
      " [  0.   0.   0.   0.   0.   0.   0.   0.   0.   0.   0.   0.   0.   0.\n",
      "    0.   0.   0.]]\n"
     ]
    }
   ],
   "source": [
    "# 构建掩码矩阵\n",
    "mask = np.full((len(tokens), len(tokens)), float(\"-inf\"))\n",
    "mask = np.triu(mask, k=1)\n",
    "print(mask.shape)\n",
    "print(mask)"
   ]
  },
  {
   "cell_type": "code",
   "execution_count": 836,
   "metadata": {},
   "outputs": [
    {
     "data": {
      "image/png": "[encoded data removed]",
      "text/plain": [
       "<Figure size 640x480 with 2 Axes>"
      ]
     },
     "metadata": {},
     "output_type": "display_data"
    }
   ],
   "source": [
    "# 对矩阵进行掩码操作\n",
    "qk_per_token_after_masking = qk_per_token + mask\n",
    "display_qk_heatmap(qk_per_token_after_masking)"
   ]
  },
  {
   "cell_type": "markdown",
   "metadata": {},
   "source": [
    "<div>\n",
    "    <img src=\"images/softmax.png\" width=\"600px\"/><br>\n",
    "    <img src=\"images/softmax-formula.png\" width=\"600px\"/>\n",
    "</div>"
   ]
  },
  {
   "cell_type": "code",
   "execution_count": 837,
   "metadata": {},
   "outputs": [],
   "source": [
    "# 定义softmax函数\n",
    "def softmax(X, axis=0):\n",
    "    exp_x = np.exp(X - np.max(X, axis=axis, keepdims=True))\n",
    "    return exp_x/exp_x.sum(axis=axis, keepdims=True)"
   ]
  },
  {
   "cell_type": "code",
   "execution_count": 838,
   "metadata": {},
   "outputs": [
    {
     "data": {
      "image/png": "[encoded data removed]",
      "text/plain": [
       "<Figure size 640x480 with 2 Axes>"
      ]
     },
     "metadata": {},
     "output_type": "display_data"
    }
   ],
   "source": [
    "# 对每一行进行softmax操作\n",
    "qk_per_token_after_masking_after_softmax = softmax(qk_per_token_after_masking, axis=1)\n",
    "display_qk_heatmap(qk_per_token_after_masking_after_softmax)"
   ]
  },
  {
   "cell_type": "markdown",
   "metadata": {},
   "source": [
    "## 值\n",
    "\n",
    "<div>\n",
    "    <img src=\"images/value.png\" width=\"600px\"/>\n",
    "</div>\n",
    "these scores (0-1) are used to determine how much of value matrix is used per token<br>\n",
    "这些分数(0-1) 用于确定每个词元(token)的值矩阵的使用情况\n",
    "<br>\n",
    "&gt; 就像键一样，值权重也是一次共享在 4 个注意头（以减少计算量），\n",
    "<br>\n",
    "&gt; 因此，下面的值权重矩阵的形状为 [8x128x4096]\n"
   ]
  },
  {
   "cell_type": "code",
   "execution_count": 839,
   "metadata": {},
   "outputs": [
    {
     "data": {
      "text/plain": [
       "(8, 128, 4096)"
      ]
     },
     "execution_count": 839,
     "metadata": {},
     "output_type": "execute_result"
    }
   ],
   "source": [
    "# 对每个注意力头的值进行拆分\n",
    "v_layer0 = tensor_to_numpy(model[\"layers.0.attention.wv.weight\"])\n",
    "v_layer0 = v_layer0.reshape(n_kv_heads, v_layer0.shape[0] // n_kv_heads, dim)\n",
    "v_layer0.shape"
   ]
  },
  {
   "cell_type": "markdown",
   "metadata": {},
   "source": [
    "第一层第一个头的值权重矩阵如下"
   ]
  },
  {
   "cell_type": "code",
   "execution_count": 840,
   "metadata": {},
   "outputs": [
    {
     "data": {
      "text/plain": [
       "(128, 4096)"
      ]
     },
     "execution_count": 840,
     "metadata": {},
     "output_type": "execute_result"
    }
   ],
   "source": [
    "v_layer0_head0 = v_layer0[0]\n",
    "v_layer0_head0.shape"
   ]
  },
  {
   "cell_type": "markdown",
   "metadata": {},
   "source": [
    "## 值向量\n",
    "<div>\n",
    "    <img src=\"images/v0.png\" width=\"600px\"/>\n",
    "</div>\n",
    "现在，我们使用值 weghts 来获取每个词元(token)的注意值，其大小为 [17x128]，其中 17 是提示词中的词元(token)数，128 是每个词元(token)的值向量维度。"
   ]
  },
  {
   "cell_type": "code",
   "execution_count": 841,
   "metadata": {},
   "outputs": [
    {
     "data": {
      "text/plain": [
       "(17, 128)"
      ]
     },
     "execution_count": 841,
     "metadata": {},
     "output_type": "execute_result"
    }
   ],
   "source": [
    "# 值与词元相乘\n",
    "v_per_token = np.matmul(token_embeddings, v_layer0_head0.T)\n",
    "v_per_token.shape"
   ]
  },
  {
   "cell_type": "markdown",
   "metadata": {},
   "source": [
    "## 注意力(Attention)\n",
    "<div>\n",
    "    <img src=\"images/attention.png\" width=\"600px\"/>\n",
    "</div>\n",
    "与每个词元(token)的值相乘后的最终的注意力向量的形状为 [17*128]"
   ]
  },
  {
   "cell_type": "code",
   "execution_count": 842,
   "metadata": {},
   "outputs": [
    {
     "data": {
      "text/plain": [
       "(17, 128)"
      ]
     },
     "execution_count": 842,
     "metadata": {},
     "output_type": "execute_result"
    }
   ],
   "source": [
    "qkv_attention = np.matmul(qk_per_token_after_masking_after_softmax, v_per_token)\n",
    "qkv_attention.shape"
   ]
  },
  {
   "cell_type": "markdown",
   "metadata": {},
   "source": [
    "# 多头注意力(multi head attention)\n",
    "<div>\n",
    "    <img src=\"images/heads.png\" width=\"600px\"/>\n",
    "</div>\n",
    "WE NOW HAVE THE ATTENTION VALUE OF THE FIRST LAYER AND FIRST HEAD<br>\n",
    "我们现在有第一层和第一层的第一个头的注意力值\n",
    "<br>\n",
    "现在我将实现一个循环，针对第一层中的每个头执行与上面单元格完全相同的数学运算。"
   ]
  },
  {
   "cell_type": "code",
   "execution_count": 843,
   "metadata": {},
   "outputs": [
    {
     "data": {
      "text/plain": [
       "32"
      ]
     },
     "execution_count": 843,
     "metadata": {},
     "output_type": "execute_result"
    }
   ],
   "source": [
    "qkv_attention_store = []\n",
    "# 循环第一层中的所有注意力头\n",
    "for head in range(n_heads):\n",
    "    # 获得第一层的每个head的Q、K、V的权重\n",
    "    q_layer0_head = q_layer0[head]\n",
    "    k_layer0_head = k_layer0[head//4] # key weights are shared across 4 heads\n",
    "    v_layer0_head = v_layer0[head//4] # value weights are shared across 4 heads\n",
    "    # 获得第一层的每个head的Q、K、V的权重与embeddings相乘\n",
    "    q_per_token = np.matmul(token_embeddings, q_layer0_head.T)\n",
    "    k_per_token = np.matmul(token_embeddings, k_layer0_head.T)\n",
    "    v_per_token = np.matmul(token_embeddings, v_layer0_head.T)\n",
    "    # 对Q进行旋转\n",
    "    q_per_token_split_into_pairs = q_per_token.reshape(q_per_token.shape[0], -1, 2)\n",
    "    q_per_token_as_complex_numbers = view_as_complex(q_per_token_split_into_pairs)\n",
    "    q_per_token_split_into_pairs_rotated = view_as_real(q_per_token_as_complex_numbers * freqs_cis[:len(tokens)])\n",
    "    q_per_token_rotated = q_per_token_split_into_pairs_rotated.reshape(q_per_token.shape)\n",
    "    # 对K进行旋转\n",
    "    k_per_token_split_into_pairs = k_per_token.reshape(k_per_token.shape[0], -1, 2)\n",
    "    k_per_token_as_complex_numbers = view_as_complex(k_per_token_split_into_pairs)\n",
    "    k_per_token_split_into_pairs_rotated = view_as_real(k_per_token_as_complex_numbers * freqs_cis[:len(tokens)])\n",
    "    k_per_token_rotated = k_per_token_split_into_pairs_rotated.reshape(k_per_token.shape)\n",
    "    # 旋转后的Q、K相乘，获得自注意力得分\n",
    "    qk_per_token = np.matmul(q_per_token_rotated, k_per_token_rotated.T)/(128)**0.5\n",
    "    # 掩码操作\n",
    "    mask = np.full((len(tokens), len(tokens)), float(\"-inf\"))\n",
    "    mask = np.triu(mask, k=1)\n",
    "    qk_per_token_after_masking = qk_per_token + mask\n",
    "    qk_per_token_after_masking_after_softmax = softmax(qk_per_token_after_masking, axis=1)\n",
    "    # 与V相乘获得每个token的注意力\n",
    "    qkv_attention = np.matmul(qk_per_token_after_masking_after_softmax, v_per_token)\n",
    "    qkv_attention = np.matmul(qk_per_token_after_masking_after_softmax, v_per_token)\n",
    "    qkv_attention_store.append(qkv_attention)\n",
    "\n",
    "len(qkv_attention_store)"
   ]
  },
  {
   "cell_type": "code",
   "execution_count": 844,
   "metadata": {},
   "outputs": [
    {
     "data": {
      "text/plain": [
       "[array([[ 0.01537907,  0.00080452,  0.03338384, ..., -0.02471023,\n",
       "         -0.00279481,  0.06470558],\n",
       "        [ 0.01566281,  0.00130613,  0.03183354, ..., -0.02448549,\n",
       "         -0.00238193,  0.06548499],\n",
       "        [ 0.01575462,  0.00196168,  0.028726  , ..., -0.02385549,\n",
       "         -0.00079202,  0.06397362],\n",
       "        ...,\n",
       "        [ 0.00499266, -0.00482836,  0.00902216, ..., -0.01028487,\n",
       "          0.01158501, -0.0058325 ],\n",
       "        [ 0.00656133, -0.00119386, -0.00061078, ..., -0.00651523,\n",
       "          0.00469018,  0.02277954],\n",
       "        [ 0.01113592,  0.01190765,  0.00177246, ..., -0.00987829,\n",
       "          0.01444967,  0.01980855]]),\n",
       " array([[ 0.01537907,  0.00080452,  0.03338384, ..., -0.02471023,\n",
       "         -0.00279481,  0.06470558],\n",
       "        [ 0.01640844,  0.00262431,  0.02775948, ..., -0.02389488,\n",
       "         -0.0012969 ,  0.0675332 ],\n",
       "        [ 0.02281697,  0.01457924, -0.01056085, ..., -0.01811198,\n",
       "          0.00987564,  0.08290022],\n",
       "        ...,\n",
       "        [ 0.00404296, -0.00739575, -0.00897595, ..., -0.00291203,\n",
       "         -0.00392262,  0.04204302],\n",
       "        [ 0.00471772,  0.01386046,  0.01647167, ..., -0.01417563,\n",
       "          0.02530851,  0.01625168],\n",
       "        [ 0.01056667,  0.02220604,  0.01026101, ..., -0.01320407,\n",
       "          0.02088923,  0.03829801]]),\n",
       " array([[ 0.01537907,  0.00080452,  0.03338384, ..., -0.02471023,\n",
       "         -0.00279481,  0.06470558],\n",
       "        [ 0.01805845,  0.00554128,  0.01874409, ..., -0.02258794,\n",
       "          0.00110414,  0.07206565],\n",
       "        [ 0.01633983,  0.00623768,  0.00840338, ..., -0.01972965,\n",
       "          0.00963   ,  0.05399126],\n",
       "        ...,\n",
       "        [ 0.00050918, -0.00915357, -0.00322239, ..., -0.00511155,\n",
       "          0.01149358, -0.00608858],\n",
       "        [ 0.00458724,  0.01567596,  0.00445818, ..., -0.01068392,\n",
       "          0.03899685, -0.03102053],\n",
       "        [ 0.0072067 ,  0.04454536,  0.00078574, ..., -0.00917347,\n",
       "          0.04379171,  0.03492   ]]),\n",
       " array([[ 0.01537907,  0.00080452,  0.03338384, ..., -0.02471023,\n",
       "         -0.00279481,  0.06470558],\n",
       "        [ 0.01608868,  0.00205901,  0.02950663, ..., -0.02414816,\n",
       "         -0.00176221,  0.06665483],\n",
       "        [ 0.01389883,  0.00045397,  0.02949834, ..., -0.02332215,\n",
       "          0.00174252,  0.0525362 ],\n",
       "        ...,\n",
       "        [ 0.01564904,  0.00135176,  0.02307954, ..., -0.01996008,\n",
       "         -0.00018496,  0.03978883],\n",
       "        [ 0.01296818,  0.00569354,  0.02566936, ..., -0.0198799 ,\n",
       "          0.00293865,  0.05066089],\n",
       "        [ 0.01637717,  0.00250636,  0.02881391, ..., -0.02271478,\n",
       "         -0.00279959,  0.05835578]]),\n",
       " array([[-8.47598305e-04, -7.95760570e-05, -3.22303385e-05, ...,\n",
       "          4.48778534e-04, -2.85246992e-04,  2.20644812e-04],\n",
       "        [-5.70092221e-05, -6.77042411e-04,  4.03039766e-04, ...,\n",
       "         -5.08480531e-04, -1.18456832e-03,  1.54263476e-04],\n",
       "        [-1.04840912e-03,  1.12551806e-04,  1.09209011e-03, ...,\n",
       "         -2.32972426e-04,  2.68386554e-04,  3.73589048e-04],\n",
       "        ...,\n",
       "        [-3.69492093e-04,  9.31488054e-04,  4.36782407e-04, ...,\n",
       "         -9.76575977e-04,  1.28837382e-03,  2.09330454e-04],\n",
       "        [ 8.63376943e-04,  1.18419766e-03, -3.55266027e-04, ...,\n",
       "         -1.34799845e-03,  8.49953769e-05, -2.35764411e-04],\n",
       "        [ 5.48935571e-04,  5.93677195e-04, -4.55368325e-04, ...,\n",
       "         -7.74706493e-04, -1.35584899e-04, -4.21927337e-04]]),\n",
       " array([[-8.47598305e-04, -7.95760570e-05, -3.22303385e-05, ...,\n",
       "          4.48778534e-04, -2.85246992e-04,  2.20644812e-04],\n",
       "        [ 3.78291404e-04, -1.00600911e-03,  6.42700739e-04, ...,\n",
       "         -1.03555013e-03, -1.67973723e-03,  1.17713722e-04],\n",
       "        [-9.37599953e-04,  3.69915272e-05,  1.40333617e-03, ...,\n",
       "         -5.54564910e-04,  2.08237546e-04,  3.91861209e-04],\n",
       "        ...,\n",
       "        [ 2.51393576e-04,  1.33935254e-03,  5.99910757e-04, ...,\n",
       "         -1.78615322e-03,  1.30569106e-03,  4.12449341e-04],\n",
       "        [ 1.13107459e-03,  1.07279978e-03, -4.85645017e-04, ...,\n",
       "         -1.47806630e-03, -2.38739835e-04, -2.95160463e-04],\n",
       "        [ 9.91960156e-04,  8.72152024e-04, -4.71099900e-04, ...,\n",
       "         -1.15291368e-03, -1.12483051e-04, -4.97564176e-04]]),\n",
       " array([[-8.47598305e-04, -7.95760570e-05, -3.22303385e-05, ...,\n",
       "          4.48778534e-04, -2.85246992e-04,  2.20644812e-04],\n",
       "        [-1.96201856e-05, -7.05298166e-04,  4.23624834e-04, ...,\n",
       "         -5.53751829e-04, -1.22709959e-03,  1.51124128e-04],\n",
       "        [-3.01945905e-03,  1.70625532e-03,  3.19227320e-03, ...,\n",
       "         -2.32160920e-04,  3.34938662e-03,  8.90113940e-04],\n",
       "        ...,\n",
       "        [-6.24350154e-04,  3.23314048e-03,  1.83678812e-03, ...,\n",
       "         -2.15450924e-03,  3.83498614e-03,  1.08890222e-03],\n",
       "        [ 4.74787252e-04,  1.36471778e-03, -3.34955711e-04, ...,\n",
       "         -8.93714687e-04,  3.50833059e-04, -3.54616661e-04],\n",
       "        [ 8.54636107e-04,  6.21589885e-04, -6.65409979e-04, ...,\n",
       "         -8.27116192e-04, -3.99939123e-04, -6.10799687e-04]]),\n",
       " array([[-8.47598305e-04, -7.95760570e-05, -3.22303385e-05, ...,\n",
       "          4.48778534e-04, -2.85246992e-04,  2.20644812e-04],\n",
       "        [ 3.45379635e-04, -9.81136926e-04,  6.24580695e-04, ...,\n",
       "         -9.95699984e-04, -1.64229900e-03,  1.20477139e-04],\n",
       "        [-1.23782289e-03,  2.61563675e-04,  1.16728539e-03, ...,\n",
       "         -1.38053076e-04,  5.31116850e-04,  4.09271660e-04],\n",
       "        ...,\n",
       "        [-5.81794854e-04,  1.07006751e-03,  5.92827460e-04, ...,\n",
       "         -8.75231245e-04,  1.52211321e-03,  2.81504487e-04],\n",
       "        [ 1.37967470e-03,  2.95892369e-03,  2.49175791e-04, ...,\n",
       "         -2.42712528e-03,  1.58039612e-03,  1.40583863e-04],\n",
       "        [ 7.11214871e-04,  8.34151111e-04, -3.79712138e-04, ...,\n",
       "         -9.61727227e-04,  4.17096086e-05, -4.02143737e-04]]),\n",
       " array([[-2.88216193e-04, -6.88124856e-04,  7.49660612e-05, ...,\n",
       "         -1.52278066e-04,  7.49209546e-04,  2.02709634e-04],\n",
       "        [ 1.33654780e-03, -7.26232590e-04,  1.42296054e-03, ...,\n",
       "          5.63870369e-04,  2.13610178e-03,  3.52894961e-04],\n",
       "        [-9.97099409e-04,  1.52370644e-04, -1.21340673e-04, ...,\n",
       "          1.09603068e-03,  5.31703760e-04, -6.90555234e-04],\n",
       "        ...,\n",
       "        [-2.60922655e-03,  2.60995820e-03, -7.42699574e-04, ...,\n",
       "          3.17499495e-03,  1.11035817e-04, -2.70248892e-03],\n",
       "        [ 1.38159523e-03,  3.18590706e-03, -9.56842385e-04, ...,\n",
       "          5.06237184e-04,  1.01156096e-03, -2.68917714e-04],\n",
       "        [ 3.92229738e-04,  4.12434892e-03, -3.77726835e-04, ...,\n",
       "          9.00616067e-04,  1.26110517e-03, -1.32679666e-03]]),\n",
       " array([[-2.88216193e-04, -6.88124856e-04,  7.49660612e-05, ...,\n",
       "         -1.52278066e-04,  7.49209546e-04,  2.02709634e-04],\n",
       "        [ 2.44050359e-03, -7.52125121e-04,  2.33886360e-03, ...,\n",
       "          1.05046178e-03,  3.07843415e-03,  4.54939296e-04],\n",
       "        [-5.25770709e-04, -2.61396409e-04,  7.81746882e-05, ...,\n",
       "          5.40867555e-04,  7.44569662e-04, -2.42383847e-04],\n",
       "        ...,\n",
       "        [-1.15696314e-03,  2.62246899e-03, -1.48348650e-04, ...,\n",
       "          1.67259482e-03,  8.70540931e-04, -1.49204382e-03],\n",
       "        [ 1.87935125e-03,  2.28693857e-02,  3.35903934e-03, ...,\n",
       "         -1.36483199e-03,  6.49628349e-03, -5.51247915e-03],\n",
       "        [ 8.02984300e-04,  1.11055717e-02,  1.25359280e-03, ...,\n",
       "          1.31488978e-05,  3.96060889e-03, -2.50735889e-03]]),\n",
       " array([[-2.88216193e-04, -6.88124856e-04,  7.49660612e-05, ...,\n",
       "         -1.52278066e-04,  7.49209546e-04,  2.02709634e-04],\n",
       "        [ 4.96854302e-03, -8.11418566e-04,  4.43626557e-03, ...,\n",
       "          2.16474760e-03,  5.23635879e-03,  6.88619037e-04],\n",
       "        [ 2.98738609e-02, -1.18436836e-03,  2.51995392e-02, ...,\n",
       "          1.35423634e-02,  2.65947958e-02,  2.77856667e-03],\n",
       "        ...,\n",
       "        [-8.98223731e-04, -6.00552389e-04,  1.19653358e-03, ...,\n",
       "          1.88212146e-03,  1.79516033e-03, -2.44077048e-03],\n",
       "        [ 7.71566971e-03,  5.87537444e-03, -3.90875230e-03, ...,\n",
       "         -1.00783276e-04,  1.26655657e-03,  2.13077824e-03],\n",
       "        [ 1.75376474e-02,  9.54573765e-03, -6.20653208e-03, ...,\n",
       "         -4.13352378e-03,  2.79906129e-03,  6.74245278e-03]]),\n",
       " array([[-2.88216193e-04, -6.88124856e-04,  7.49660612e-05, ...,\n",
       "         -1.52278066e-04,  7.49209546e-04,  2.02709634e-04],\n",
       "        [ 7.68122192e-04, -7.12900554e-04,  9.51363075e-04, ...,\n",
       "          3.13324990e-04,  1.65089589e-03,  3.00352447e-04],\n",
       "        [ 5.03128198e-05,  1.01344769e-04,  7.35066872e-04, ...,\n",
       "          1.50757357e-03,  1.41332272e-03, -5.67153688e-04],\n",
       "        ...,\n",
       "        [-2.58012834e-03,  1.33842878e-02,  1.52222296e-03, ...,\n",
       "          1.11052929e-03,  3.16168502e-03, -5.13010301e-03],\n",
       "        [ 3.33480558e-03,  6.71574667e-03, -1.12030481e-03, ...,\n",
       "         -5.92234628e-04,  1.91908267e-03,  3.31978790e-05],\n",
       "        [ 2.40073928e-03,  8.55250607e-03, -7.00659835e-04, ...,\n",
       "         -1.95976407e-04,  2.23450594e-03, -1.07825813e-03]]),\n",
       " array([[ 8.99040024e-04,  1.62034790e-04,  2.04442040e-04, ...,\n",
       "          1.60846650e-03, -5.98276558e-04, -2.19023845e-04],\n",
       "        [-8.75616972e-03, -5.57624679e-03, -8.22716858e-04, ...,\n",
       "          1.43801702e-03,  1.30923532e-03,  1.18336138e-02],\n",
       "        [-2.08355304e-03, -1.34707024e-03,  1.00704707e-03, ...,\n",
       "          7.21695425e-04,  4.11741794e-04,  2.69494192e-03],\n",
       "        ...,\n",
       "        [-1.35658104e-03, -6.20505287e-04,  1.43277904e-03, ...,\n",
       "         -7.41476524e-06,  1.81735570e-03, -2.29866944e-05],\n",
       "        [-4.40151708e-03,  1.38145136e-03,  5.75264542e-04, ...,\n",
       "         -1.49446543e-03,  5.43314088e-03, -3.44481689e-03],\n",
       "        [-3.60721764e-03,  1.60244670e-04, -1.17581305e-04, ...,\n",
       "         -1.66480921e-03,  4.99967937e-03, -2.00017170e-03]]),\n",
       " array([[ 8.99040024e-04,  1.62034790e-04,  2.04442040e-04, ...,\n",
       "          1.60846650e-03, -5.98276558e-04, -2.19023845e-04],\n",
       "        [-3.58059547e-03, -2.50030093e-03, -2.72119069e-04, ...,\n",
       "          1.52938468e-03,  2.86733521e-04,  5.37292339e-03],\n",
       "        [-1.40994077e-03, -9.68052821e-04,  9.88083744e-04, ...,\n",
       "          8.01085493e-04,  2.44611577e-04,  1.91955237e-03],\n",
       "        ...,\n",
       "        [-1.36862536e-03, -4.14647391e-04,  1.28845393e-03, ...,\n",
       "          7.59036896e-04,  1.58004656e-03, -2.88679445e-06],\n",
       "        [-2.69031510e-03,  4.41607718e-05,  1.99365383e-03, ...,\n",
       "         -1.77975434e-04,  2.65233293e-03, -6.47806796e-04],\n",
       "        [-2.46629573e-03, -2.17816315e-04,  1.53568780e-03, ...,\n",
       "          4.20749287e-04,  2.47282673e-03, -2.44640269e-04]]),\n",
       " array([[ 0.00089904,  0.00016203,  0.00020444, ...,  0.00160847,\n",
       "         -0.00059828, -0.00021902],\n",
       "        [-0.00973047, -0.00615529, -0.00092637, ...,  0.00142082,\n",
       "          0.00150172,  0.01304983],\n",
       "        [-0.0032903 , -0.00197864,  0.00124258, ...,  0.00042935,\n",
       "          0.00078688,  0.00393837],\n",
       "        ...,\n",
       "        [-0.0006109 , -0.00212106,  0.00128119, ..., -0.00424228,\n",
       "          0.00385144, -0.00032906],\n",
       "        [-0.00386152,  0.00130768, -0.00348192, ..., -0.00879038,\n",
       "          0.01120301, -0.00808016],\n",
       "        [-0.00307479,  0.00046717, -0.00538568, ..., -0.00390334,\n",
       "          0.00819909, -0.00356212]]),\n",
       " array([[ 0.00089904,  0.00016203,  0.00020444, ...,  0.00160847,\n",
       "         -0.00059828, -0.00021902],\n",
       "        [-0.00659063, -0.00428922, -0.00059234, ...,  0.00147625,\n",
       "          0.0008814 ,  0.00913036],\n",
       "        [-0.00927561, -0.00483061,  0.003603  , ..., -0.00190863,\n",
       "          0.00309544,  0.00924419],\n",
       "        ...,\n",
       "        [-0.00585767, -0.00229696,  0.00353741, ..., -0.00636158,\n",
       "          0.00581117,  0.00194445],\n",
       "        [-0.0054737 ,  0.00012728,  0.0019919 , ..., -0.00261689,\n",
       "          0.00490905, -0.00071401],\n",
       "        [-0.00480684, -0.00027682,  0.00229168, ..., -0.00131127,\n",
       "          0.00440533, -0.00023077]]),\n",
       " array([[ 9.70227295e-04,  5.77107305e-04, -8.19284702e-04, ...,\n",
       "         -4.42112098e-04,  7.29861495e-06, -7.14384427e-04],\n",
       "        [ 9.61081488e-04,  1.74314617e-03, -3.35230774e-03, ...,\n",
       "         -5.62745249e-04, -5.80589542e-04, -1.71163743e-03],\n",
       "        [ 9.03935703e-04,  6.29714209e-04, -9.80693707e-04, ...,\n",
       "         -4.30892733e-04, -5.69602526e-05, -7.36892711e-04],\n",
       "        ...,\n",
       "        [ 7.16415188e-04,  5.77153551e-04, -8.58213297e-04, ...,\n",
       "         -3.48344563e-04, -1.67993642e-04, -6.12980031e-04],\n",
       "        [ 1.81482260e-04,  3.97678534e-04, -1.40820198e-03, ...,\n",
       "          2.16711581e-04, -6.68657947e-04, -3.35391282e-04],\n",
       "        [ 3.43233392e-04,  3.80617289e-04, -1.07509311e-03, ...,\n",
       "          4.73412154e-06, -5.31811791e-04, -4.88740266e-04]]),\n",
       " array([[ 9.70227295e-04,  5.77107305e-04, -8.19284702e-04, ...,\n",
       "         -4.42112098e-04,  7.29861495e-06, -7.14384427e-04],\n",
       "        [ 9.36021691e-04,  4.93812925e-03, -1.02928704e-02, ...,\n",
       "         -8.93283869e-04, -2.19142154e-03, -4.44414195e-03],\n",
       "        [ 8.38702907e-04,  8.05870672e-04, -1.40904261e-03, ...,\n",
       "         -4.32968128e-04, -1.82348209e-04, -8.65758653e-04],\n",
       "        ...,\n",
       "        [ 5.68056930e-04,  6.00300084e-04, -1.00180330e-03, ...,\n",
       "         -2.45635222e-04, -2.90170146e-04, -5.42478693e-04],\n",
       "        [ 4.13836005e-04,  5.46419673e-04, -2.16488849e-03, ...,\n",
       "          6.14386631e-04, -7.85206620e-04, -3.21146583e-04],\n",
       "        [ 3.20868797e-04,  5.34212917e-04, -2.25692016e-03, ...,\n",
       "          7.86452635e-04, -1.01993448e-03, -3.30233301e-04]]),\n",
       " array([[ 9.70227295e-04,  5.77107305e-04, -8.19284702e-04, ...,\n",
       "         -4.42112098e-04,  7.29861495e-06, -7.14384427e-04],\n",
       "        [ 9.68468829e-04,  8.01301803e-04, -1.30630949e-03, ...,\n",
       "         -4.65306255e-04, -1.05734745e-04, -9.06126438e-04],\n",
       "        [ 9.05318090e-04,  5.95757272e-04, -9.06129568e-04, ...,\n",
       "         -4.27661966e-04, -3.92007228e-05, -7.08231984e-04],\n",
       "        ...,\n",
       "        [ 6.04098913e-04,  5.31698573e-04, -8.02581090e-04, ...,\n",
       "         -3.40608275e-04, -2.15666710e-04, -5.91520592e-04],\n",
       "        [ 1.70478754e-04,  3.89516526e-04, -1.21620220e-03, ...,\n",
       "          7.60297853e-05, -5.75314229e-04, -3.79927891e-04],\n",
       "        [ 1.08959105e-03,  3.87517413e-04, -3.38844896e-03, ...,\n",
       "          1.26998129e-03, -2.45246989e-04, -5.85754838e-04]]),\n",
       " array([[ 9.70227295e-04,  5.77107305e-04, -8.19284702e-04, ...,\n",
       "         -4.42112098e-04,  7.29861495e-06, -7.14384427e-04],\n",
       "        [ 9.60617934e-04,  1.80224668e-03, -3.48069365e-03, ...,\n",
       "         -5.68859523e-04, -6.10386571e-04, -1.76218305e-03],\n",
       "        [ 8.75039371e-04,  9.97521839e-04, -1.79830224e-03, ...,\n",
       "         -4.62365754e-04, -2.57299291e-04, -1.04258225e-03],\n",
       "        ...,\n",
       "        [ 9.48465170e-04,  6.45584763e-04, -1.18642432e-03, ...,\n",
       "         -1.64687484e-04, -1.00685541e-04, -5.72104813e-04],\n",
       "        [ 1.74047134e-03,  7.50447710e-04, -1.92438024e-03, ...,\n",
       "          6.99096602e-04, -2.04638008e-04, -3.64778159e-04],\n",
       "        [ 1.15495501e-03,  6.76627758e-04, -1.29115706e-03, ...,\n",
       "          1.61092901e-04, -2.94945384e-04, -4.60413250e-04]]),\n",
       " array([[ 9.82174533e-05, -4.14458103e-04,  5.69364987e-04, ...,\n",
       "          6.15566154e-04,  1.02514471e-03,  7.72683125e-04],\n",
       "        [ 4.47977176e-04,  2.32367109e-04,  4.21193966e-04, ...,\n",
       "          6.96368993e-04,  8.03121907e-04,  6.18381950e-05],\n",
       "        [ 6.24339487e-04,  4.16255932e-05,  6.60164555e-04, ...,\n",
       "          3.32899708e-04,  1.01040418e-03, -4.94480557e-04],\n",
       "        ...,\n",
       "        [-7.74770520e-04, -3.42586690e-03,  2.67361805e-03, ...,\n",
       "         -1.43182568e-03, -1.11121104e-03, -6.90611598e-04],\n",
       "        [-1.66705814e-03, -4.77696641e-03,  3.74849332e-03, ...,\n",
       "         -1.88383246e-03, -1.93539528e-03, -4.45744566e-04],\n",
       "        [-1.20199064e-03, -3.63593421e-03,  3.25232037e-03, ...,\n",
       "         -1.27122161e-03, -1.74042725e-03, -6.63941905e-04]]),\n",
       " array([[ 9.82174533e-05, -4.14458103e-04,  5.69364987e-04, ...,\n",
       "          6.15566154e-04,  1.02514471e-03,  7.72683125e-04],\n",
       "        [ 6.33021889e-04,  5.74577998e-04,  3.42802252e-04, ...,\n",
       "          7.39118736e-04,  6.85657994e-04, -3.14243118e-04],\n",
       "        [ 7.43962330e-04,  1.95740737e-04,  6.50213423e-04, ...,\n",
       "          3.08056603e-04,  9.75915307e-04, -7.63290841e-04],\n",
       "        ...,\n",
       "        [ 1.04140877e-03, -1.71818974e-03,  2.31610939e-03, ...,\n",
       "         -1.70787493e-03,  1.48598119e-03, -1.40155210e-03],\n",
       "        [ 2.42070276e-04, -2.86369945e-03,  3.24551086e-03, ...,\n",
       "         -2.08497304e-03,  1.03600749e-03, -1.69805479e-03],\n",
       "        [ 3.11317414e-04, -2.02459046e-03,  2.57667311e-03, ...,\n",
       "         -1.32848429e-03,  1.09731675e-03, -1.31517833e-03]]),\n",
       " array([[ 9.82174533e-05, -4.14458103e-04,  5.69364987e-04, ...,\n",
       "          6.15566154e-04,  1.02514471e-03,  7.72683125e-04],\n",
       "        [ 3.10390182e-04, -2.20782458e-05,  4.79480853e-04, ...,\n",
       "          6.64583116e-04,  8.90460294e-04,  3.41467354e-04],\n",
       "        [ 5.23230667e-04,  8.89991749e-05,  5.60774889e-04, ...,\n",
       "          4.92809720e-04,  9.29847028e-04, -1.99269442e-04],\n",
       "        ...,\n",
       "        [ 3.28554582e-04, -1.19528959e-03,  1.56582793e-03, ...,\n",
       "         -4.06499010e-04,  9.33031877e-04, -6.17129741e-04],\n",
       "        [-1.80547651e-04, -1.11709607e-03,  1.75940534e-03, ...,\n",
       "          6.71622420e-05,  8.30690292e-04, -6.26859477e-04],\n",
       "        [-2.55703608e-04, -1.16642086e-03,  1.92959729e-03, ...,\n",
       "          2.83254443e-05,  6.62292232e-04, -7.45138091e-04]]),\n",
       " array([[ 9.82174533e-05, -4.14458103e-04,  5.69364987e-04, ...,\n",
       "          6.15566154e-04,  1.02514471e-03,  7.72683125e-04],\n",
       "        [ 1.39198049e-03,  1.97815174e-03,  2.12796047e-05, ...,\n",
       "          9.14456278e-04,  2.03881203e-04, -1.85673598e-03],\n",
       "        [ 2.07951588e-03,  2.52830944e-03,  1.67761959e-04, ...,\n",
       "          5.09212150e-04,  2.12936302e-04, -3.53021676e-03],\n",
       "        ...,\n",
       "        [-5.87236061e-03, -1.27409998e-02,  6.22943641e-03, ...,\n",
       "         -4.51618918e-03, -7.47819624e-03,  1.62001960e-03],\n",
       "        [-5.56181489e-03, -1.05588685e-02,  5.40705546e-03, ...,\n",
       "         -2.88989365e-03, -6.73259726e-03,  7.59042531e-04],\n",
       "        [-5.92119741e-03, -1.02187102e-02,  4.80884387e-03, ...,\n",
       "         -1.58184916e-03, -9.65313848e-03,  9.21580153e-04]]),\n",
       " array([[ 0.00052434,  0.00056118, -0.00091385, ..., -0.00067544,\n",
       "          0.00063556, -0.00021612],\n",
       "        [ 0.00174764,  0.00445839, -0.00088824, ..., -0.00244812,\n",
       "          0.00057822, -0.0033969 ],\n",
       "        [-0.00120058,  0.00232893,  0.00151449, ..., -0.00192883,\n",
       "         -0.00032659,  0.00012293],\n",
       "        ...,\n",
       "        [-0.00068375, -0.00105838,  0.00379087, ...,  0.00055963,\n",
       "          0.00030708,  0.00342883],\n",
       "        [ 0.00227236, -0.001144  ,  0.00389877, ..., -0.00178705,\n",
       "          0.00015393, -0.00047433],\n",
       "        [ 0.00225425, -0.00019597,  0.00331251, ..., -0.00144983,\n",
       "          0.0002769 , -0.00180542]]),\n",
       " array([[ 5.24337986e-04,  5.61182387e-04, -9.13849741e-04, ...,\n",
       "         -6.75444957e-04,  6.35558798e-04, -2.16119312e-04],\n",
       "        [ 1.44664956e-03,  3.49950555e-03, -8.94542960e-04, ...,\n",
       "         -2.01196340e-03,  5.92325529e-04, -2.61428598e-03],\n",
       "        [-2.07855566e-04,  3.00717872e-03,  6.92283502e-04, ...,\n",
       "         -2.08364477e-03, -1.63529451e-05, -1.04012945e-03],\n",
       "        ...,\n",
       "        [ 2.50125940e-04, -3.96425262e-04,  2.87574523e-03, ...,\n",
       "          6.16171511e-04,  6.10094139e-04,  2.08329393e-03],\n",
       "        [ 2.57483791e-03, -7.17266162e-04,  3.04973492e-03, ...,\n",
       "         -1.05620787e-03,  5.45453532e-04, -3.56885387e-04],\n",
       "        [ 1.63612731e-03,  2.07553728e-04,  2.35857511e-03, ...,\n",
       "         -6.63085475e-04,  4.90778491e-04, -7.28162753e-04]]),\n",
       " array([[ 5.24337986e-04,  5.61182387e-04, -9.13849741e-04, ...,\n",
       "         -6.75444957e-04,  6.35558798e-04, -2.16119312e-04],\n",
       "        [ 1.53342043e-03,  3.77594235e-03, -8.92726583e-04, ...,\n",
       "         -2.13770277e-03,  5.88258152e-04, -2.83990498e-03],\n",
       "        [-1.17584929e-03,  2.42731808e-03,  1.52166299e-03, ...,\n",
       "         -1.97479514e-03, -3.30563430e-04,  4.74360913e-05],\n",
       "        ...,\n",
       "        [-9.51315250e-04, -7.12217249e-04,  3.69471157e-03, ...,\n",
       "          3.64034891e-04,  1.71202434e-04,  3.11988321e-03],\n",
       "        [ 2.24471136e-03, -7.81432849e-04,  3.54613689e-03, ...,\n",
       "         -1.57096185e-03,  2.48122626e-04, -5.98979392e-04],\n",
       "        [ 1.40489264e-03,  2.31393009e-06,  2.90116533e-03, ...,\n",
       "         -8.66770058e-04,  3.25493691e-04, -7.31099749e-04]]),\n",
       " array([[ 5.24337986e-04,  5.61182387e-04, -9.13849741e-04, ...,\n",
       "         -6.75444957e-04,  6.35558798e-04, -2.16119312e-04],\n",
       "        [ 1.57987211e-03,  3.92392924e-03, -8.91754208e-04, ...,\n",
       "         -2.20501572e-03,  5.86080734e-04, -2.96068721e-03],\n",
       "        [-2.73502395e-04,  2.56317651e-03,  6.11216947e-04, ...,\n",
       "         -1.86715773e-03,  2.04515903e-05, -7.35367371e-04],\n",
       "        ...,\n",
       "        [ 2.84764980e-04, -3.71226360e-04,  2.62974433e-03, ...,\n",
       "          5.00418325e-04,  5.89799664e-04,  1.96707563e-03],\n",
       "        [ 2.18547668e-03, -8.71727073e-04,  3.25879061e-03, ...,\n",
       "         -8.62500904e-04,  4.98820716e-04,  2.86224381e-04],\n",
       "        [ 1.82794396e-03, -6.40413777e-05,  2.10457658e-03, ...,\n",
       "         -4.51189492e-04,  6.43272760e-04, -4.23617859e-04]]),\n",
       " array([[ 9.91557899e-05,  2.64484494e-04, -1.38419127e-04, ...,\n",
       "          4.45312588e-04,  1.26679937e-04, -4.11183937e-05],\n",
       "        [ 7.56007994e-05, -3.41323551e-04, -6.35737567e-04, ...,\n",
       "          1.94272571e-04, -8.30637817e-04,  1.29702834e-03],\n",
       "        [ 1.43240748e-05, -1.12574124e-04, -4.08786746e-04, ...,\n",
       "          3.09032189e-04, -3.90707921e-04,  6.63377333e-04],\n",
       "        ...,\n",
       "        [ 8.91200126e-06, -5.97620425e-04, -9.65602422e-04, ...,\n",
       "          1.18509063e-04, -1.00006935e-03, -8.87828948e-05],\n",
       "        [-9.99438417e-04, -2.35007213e-03, -1.16960759e-03, ...,\n",
       "          8.64032922e-05, -1.68460682e-03, -7.21737804e-04],\n",
       "        [-1.85219606e-03, -5.44398710e-03, -9.55629124e-04, ...,\n",
       "          1.87643206e-04, -2.92992030e-03, -1.41226281e-03]]),\n",
       " array([[ 9.91557899e-05,  2.64484494e-04, -1.38419127e-04, ...,\n",
       "          4.45312588e-04,  1.26679937e-04, -4.11183937e-05],\n",
       "        [ 9.91465415e-05,  2.64246634e-04, -1.38614391e-04, ...,\n",
       "          4.45214021e-04,  1.26304063e-04, -4.05929939e-05],\n",
       "        [ 9.56169013e-05,  2.50282832e-04, -1.48410472e-04, ...,\n",
       "          4.40277500e-04,  1.07577197e-04, -1.52129243e-05],\n",
       "        ...,\n",
       "        [ 1.50309695e-04,  1.93007484e-04, -6.95655757e-05, ...,\n",
       "          3.51171607e-04,  6.63388335e-05, -4.28672962e-05],\n",
       "        [ 1.61682277e-04,  1.80640384e-04, -2.99872131e-05, ...,\n",
       "          3.41270343e-04,  7.08625547e-05, -4.16987354e-05],\n",
       "        [ 1.60822602e-04,  1.80075075e-04, -2.84067564e-05, ...,\n",
       "          3.43181588e-04,  7.22262119e-05, -4.12315391e-05]]),\n",
       " array([[ 9.91557899e-05,  2.64484494e-04, -1.38419127e-04, ...,\n",
       "          4.45312588e-04,  1.26679937e-04, -4.11183937e-05],\n",
       "        [ 5.78852159e-05, -7.96948572e-04, -1.00976813e-03, ...,\n",
       "          5.46670399e-06, -1.55063143e-03,  2.30344140e-03],\n",
       "        [-9.60004762e-04, -6.01381410e-04, -2.76836914e-04, ...,\n",
       "          3.78330777e-04, -9.50666391e-05, -4.64001455e-06],\n",
       "        ...,\n",
       "        [-4.79150367e-04, -5.33261341e-04, -3.04710751e-04, ...,\n",
       "          2.74964430e-04, -3.72538534e-04, -2.71883979e-04],\n",
       "        [ 3.72165481e-04, -8.39349082e-04,  1.85327264e-04, ...,\n",
       "          4.26978480e-04, -2.74307616e-04, -4.23081371e-04],\n",
       "        [ 2.14275764e-04,  2.07722572e-05,  7.11518700e-05, ...,\n",
       "          2.77992887e-04, -1.27904400e-05, -5.50886625e-05]]),\n",
       " array([[ 9.91557899e-05,  2.64484494e-04, -1.38419127e-04, ...,\n",
       "          4.45312588e-04,  1.26679937e-04, -4.11183937e-05],\n",
       "        [ 9.91557876e-05,  2.64484433e-04, -1.38419177e-04, ...,\n",
       "          4.45312563e-04,  1.26679842e-04, -4.11182603e-05],\n",
       "        [ 9.91557790e-05,  2.64484239e-04, -1.38419335e-04, ...,\n",
       "          4.45312482e-04,  1.26679537e-04, -4.11178340e-05],\n",
       "        ...,\n",
       "        [ 9.91673605e-05,  2.64468348e-04, -1.38398798e-04, ...,\n",
       "          4.45294240e-04,  1.26669238e-04, -4.11178417e-05],\n",
       "        [ 9.91962027e-05,  2.64418716e-04, -1.38340232e-04, ...,\n",
       "          4.45254153e-04,  1.26639669e-04, -4.11120771e-05],\n",
       "        [ 9.91842790e-05,  2.64435625e-04, -1.38361650e-04, ...,\n",
       "          4.45272812e-04,  1.26650411e-04, -4.11125343e-05]])]"
      ]
     },
     "execution_count": 844,
     "metadata": {},
     "output_type": "execute_result"
    }
   ],
   "source": [
    "qkv_attention_store"
   ]
  },
  {
   "cell_type": "markdown",
   "metadata": {},
   "source": [
    "<div>\n",
    "    <img src=\"images/stacked.png\" width=\"600px\"/>\n",
    "</div>\n",
    "我们现在有一个第一层上所有(32个)头的qkv_attention矩阵，接下来将所有注意力得分合并到一个大小为 [17x4096]\n",
    "的大矩阵中。\n"
   ]
  },
  {
   "cell_type": "code",
   "execution_count": 845,
   "metadata": {},
   "outputs": [
    {
     "data": {
      "text/plain": [
       "(17, 4096)"
      ]
     },
     "execution_count": 845,
     "metadata": {},
     "output_type": "execute_result"
    }
   ],
   "source": [
    "# 合并所有的注意力得分到一个大矩阵中\n",
    "stacked_qkv_attention = np.concatenate(qkv_attention_store, axis=-1)\n",
    "stacked_qkv_attention.shape"
   ]
  },
  {
   "cell_type": "markdown",
   "metadata": {},
   "source": [
    "# 权重矩阵（马上到最后了！）\n",
    "<div>\n",
    "    <img src=\"images/weightmatrix.png\" width=\"600px\"/>\n",
    "</div>\n",
    "one of the last things to do for a layer 0 attention is, is to multiply the weight matrix of the <br>\n",
    "对于第 0 层的注意力要做的最后一件事是去乘输出的权重矩阵"
   ]
  },
  {
   "cell_type": "code",
   "execution_count": 846,
   "metadata": {},
   "outputs": [
    {
     "data": {
      "text/plain": [
       "(4096, 4096)"
      ]
     },
     "execution_count": 846,
     "metadata": {},
     "output_type": "execute_result"
    }
   ],
   "source": [
    "w_layer0 = tensor_to_numpy(model[\"layers.0.attention.wo.weight\"])\n",
    "w_layer0.shape"
   ]
  },
  {
   "cell_type": "markdown",
   "metadata": {},
   "source": [
    "### 这是一个简单的线性层，所以我们只是进行矩阵乘法"
   ]
  },
  {
   "cell_type": "code",
   "execution_count": 847,
   "metadata": {},
   "outputs": [
    {
     "data": {
      "text/plain": [
       "(17, 4096)"
      ]
     },
     "execution_count": 847,
     "metadata": {},
     "output_type": "execute_result"
    }
   ],
   "source": [
    "embedding_delta = np.matmul(stacked_qkv_attention, w_layer0.T)\n",
    "embedding_delta.shape"
   ]
  },
  {
   "cell_type": "markdown",
   "metadata": {},
   "source": [
    "<div>\n",
    "    <img src=\"images/afterattention.png\" width=\"600px\"/>\n",
    "</div>\n",
    "现在，我们获得了经过了注意的嵌入值，应该将它加到词元(token)嵌入(embeddings)中"
   ]
  },
  {
   "cell_type": "code",
   "execution_count": 848,
   "metadata": {},
   "outputs": [
    {
     "data": {
      "text/plain": [
       "(17, 4096)"
      ]
     },
     "execution_count": 848,
     "metadata": {},
     "output_type": "execute_result"
    }
   ],
   "source": [
    "embedding_after_edit = token_embeddings_unnormalized + embedding_delta\n",
    "embedding_after_edit.shape"
   ]
  },
  {
   "cell_type": "markdown",
   "metadata": {},
   "source": [
    "## 我们对嵌入增量(embedding delta)先进行归一化，然后运行前馈神经网络\n",
    "<div>\n",
    "    <img src=\"images/norm_after.png\" width=\"600px\"/>\n",
    "</div>"
   ]
  },
  {
   "cell_type": "code",
   "execution_count": 849,
   "metadata": {},
   "outputs": [
    {
     "data": {
      "text/plain": [
       "(17, 4096)"
      ]
     },
     "execution_count": 849,
     "metadata": {},
     "output_type": "execute_result"
    }
   ],
   "source": [
    "# 归一化 \n",
    "embedding_after_edit_normalized = rms_norm(embedding_after_edit, tensor_to_numpy(model[\"layers.0.ffn_norm.weight\"]))\n",
    "embedding_after_edit_normalized.shape"
   ]
  },
  {
   "cell_type": "markdown",
   "metadata": {},
   "source": [
    "## 加载 **前馈网络(Feed Forward  Network,FFN)** 权重并实现前馈网络\n",
    "<div>\n",
    "    <img src=\"images/swiglu.png\" width=\"600px\"/><br>\n",
    "    <img src=\"images/Swish.png\" width=\"600px\"/><br>\n",
    "    <img src=\"images/SwiGLU1.png\" width=\"600px\"/>\n",
    "</div>\n",
    "in llama3, they used a SwiGLU feedforward network, this network architecture is really good at adding non linearity when needed by the model.<br>\n",
    "在 llama3 中，它们使用了 SwiGLU 前馈网络，这种网络架构非常擅长在模型需要时添加非线性。\n",
    "<br>\n",
    "如今，在 LLMS 中使用这种前馈网络架构非常标准。"
   ]
  },
  {
   "cell_type": "code",
   "execution_count": 850,
   "metadata": {},
   "outputs": [],
   "source": [
    "# 使用Numpy实现的silu函数（即Swish激活函数）\n",
    "def silu(x):\n",
    "    # 计算 sigmod(x)\n",
    "    sigmod_x = 1 / (1 + np.exp(-x))\n",
    "    # 计算 SiLU(x) = x* sigmoid(x)\n",
    "    return x * sigmod_x\n",
    "# silu(np.matmul(embedding_after_edit_normalized, w1.T))"
   ]
  },
  {
   "cell_type": "code",
   "execution_count": 851,
   "metadata": {},
   "outputs": [
    {
     "name": "stdout",
     "output_type": "stream",
     "text": [
      "(14336, 4096) (4096, 14336) (14336, 4096)\n"
     ]
    }
   ],
   "source": [
    "print(\n",
    "    tensor_to_numpy(model[\"layers.0.feed_forward.w1.weight\"]).shape,\n",
    "    tensor_to_numpy(model[\"layers.0.feed_forward.w2.weight\"]).shape,\n",
    "    tensor_to_numpy(model[\"layers.0.feed_forward.w3.weight\"]).shape\n",
    ")"
   ]
  },
  {
   "cell_type": "code",
   "execution_count": 852,
   "metadata": {},
   "outputs": [
    {
     "data": {
      "text/plain": [
       "(17, 4096)"
      ]
     },
     "execution_count": 852,
     "metadata": {},
     "output_type": "execute_result"
    }
   ],
   "source": [
    "w1 = tensor_to_numpy(model[\"layers.0.feed_forward.w1.weight\"])\n",
    "w2 = tensor_to_numpy(model[\"layers.0.feed_forward.w2.weight\"])\n",
    "w3 = tensor_to_numpy(model[\"layers.0.feed_forward.w3.weight\"])\n",
    "# SwiGLU 激活\n",
    "output_after_feedforward = np.matmul(silu(np.matmul(embedding_after_edit_normalized, w1.T)) * np.matmul(embedding_after_edit_normalized, w3.T), w2.T)\n",
    "output_after_feedforward.shape"
   ]
  },
  {
   "cell_type": "markdown",
   "metadata": {},
   "source": [
    "# 在第一层之后，我们终于为每个词元(TOKEN)提供了新的编辑嵌入(EDITED EMBEDDINGS)\n",
    "在我们完成之前，还有 31 个层（循环）\n",
    "<br>\n",
    "you can imagine this edited embedding as having information about all queries asked on the first layer<br>\n",
    "您可以将这种编辑后的嵌入想象为包含有关第一层上请求的所有查询的信息。\n",
    "<br>\n",
    "now each layer will encode more and more complex queries on the quesions asked, until we have an embedding that knows everything about the next token that we need.<br>\n",
    "现在每一层都将对所提出的问题进行越来越复杂的查询编码，直到我们有一个嵌入，它知道我们需要的下一个词元(token)的所有信息。"
   ]
  },
  {
   "cell_type": "code",
   "execution_count": 853,
   "metadata": {},
   "outputs": [
    {
     "data": {
      "text/plain": [
       "(17, 4096)"
      ]
     },
     "execution_count": 853,
     "metadata": {},
     "output_type": "execute_result"
    }
   ],
   "source": [
    "layer_0_embedding = embedding_after_edit+output_after_feedforward\n",
    "layer_0_embedding.shape"
   ]
  },
  {
   "cell_type": "markdown",
   "metadata": {},
   "source": [
    "# 对每层进行循环(快结束了)\n",
    "<div>\n",
    "    <img src=\"images/god.png\" width=\"600px\"/>\n",
    "</div>\n",
    "针对每一层，将我们之前所做的操作进行循环，一次性完成。\n",
    "<br>\n"
   ]
  },
  {
   "cell_type": "code",
   "execution_count": 854,
   "metadata": {},
   "outputs": [],
   "source": [
    "# 存储嵌入\n",
    "final_embedding = token_embeddings_unnormalized\n",
    "# 对每层进行循环\n",
    "for layer in range(n_layers):\n",
    "    # 存储Q、K、V注意力得分\n",
    "    qkv_attention_store = []\n",
    "    # 获取每层的Q、K、V、O权重信息\n",
    "    layer_embedding_norm = rms_norm(final_embedding, tensor_to_numpy(model[f\"layers.{layer}.attention_norm.weight\"]))\n",
    "    q_layer = tensor_to_numpy(model[f\"layers.{layer}.attention.wq.weight\"])\n",
    "    q_layer = q_layer.reshape(n_heads, q_layer.shape[0] // n_heads, dim)\n",
    "    k_layer = tensor_to_numpy(model[f\"layers.{layer}.attention.wk.weight\"])\n",
    "    k_layer = k_layer.reshape(n_kv_heads, k_layer.shape[0] // n_kv_heads, dim)\n",
    "    v_layer = tensor_to_numpy(model[f\"layers.{layer}.attention.wv.weight\"])\n",
    "    v_layer = v_layer.reshape(n_kv_heads, v_layer.shape[0] // n_kv_heads, dim)\n",
    "    w_layer = tensor_to_numpy(model[f\"layers.{layer}.attention.wo.weight\"])\n",
    "    # 遍历所有注意力头\n",
    "    for head in range(n_heads):\n",
    "        # 获得第一层的每个head的Q、K、V的权重\n",
    "        q_layer_head = q_layer[head]\n",
    "        k_layer_head = k_layer[head//4]\n",
    "        v_layer_head = v_layer[head//4]\n",
    "        # 获得第一层的每个head的权重与embedings相乘\n",
    "        q_per_token = np.matmul(layer_embedding_norm, q_layer_head.T)\n",
    "        k_per_token = np.matmul(layer_embedding_norm, k_layer_head.T)\n",
    "        v_per_token = np.matmul(layer_embedding_norm, v_layer_head.T)\n",
    "        # 对Q、K进行旋转\n",
    "        q_per_token_split_into_pairs = q_per_token.reshape(q_per_token.shape[0], -1, 2)\n",
    "        q_per_token_as_complex_numbers = view_as_complex(q_per_token_split_into_pairs)\n",
    "        q_per_token_split_into_pairs_rotated = view_as_real(q_per_token_as_complex_numbers * freqs_cis)\n",
    "        q_per_token_rotated = q_per_token_split_into_pairs_rotated.reshape(q_per_token.shape)\n",
    "        k_per_token_split_into_pairs = k_per_token.reshape(k_per_token.shape[0], -1, 2)\n",
    "        k_per_token_as_complex_numbers = view_as_complex(k_per_token_split_into_pairs)\n",
    "        k_per_token_split_into_pairs_rotated = view_as_real(k_per_token_as_complex_numbers * freqs_cis)\n",
    "        k_per_token_rotated = k_per_token_split_into_pairs_rotated.reshape(k_per_token.shape)\n",
    "        # 旋转后的Q、K相乘，获得自注意力得分\n",
    "        qk_per_token = np.matmul(q_per_token_rotated, k_per_token_rotated.T)/(128)**0.5\n",
    "        mask = np.full((len(token_embeddings_unnormalized), len(token_embeddings_unnormalized)), float(\"-inf\"))\n",
    "        # 掩码操作\n",
    "        mask = np.triu(mask, k=1)\n",
    "        qk_per_token_after_masking = qk_per_token + mask\n",
    "        qk_per_token_after_masking_after_softmax = softmax(qk_per_token_after_masking, axis=1)\n",
    "        qkv_attention = np.matmul(qk_per_token_after_masking_after_softmax, v_per_token)\n",
    "        # 与V相乘获得每个token的注意力得分\n",
    "        qkv_attention_store.append(qkv_attention)\n",
    "    # 合并，获得多头注意力得分\n",
    "    stacked_qkv_attention = np.concatenate(qkv_attention_store, axis=-1)\n",
    "    # w_layer = tensor_to_numpy(model[f\"layers.{layer}.attention.wo.weight\"])\n",
    "    embedding_delta = np.matmul(stacked_qkv_attention, w_layer.T)\n",
    "    embedding_after_edit = final_embedding + embedding_delta\n",
    "    # 归一化\n",
    "    embedding_after_edit_normalized = rms_norm(embedding_after_edit, tensor_to_numpy(model[f\"layers.{layer}.ffn_norm.weight\"]))\n",
    "    # SwiGLU 激活\n",
    "    w1 = tensor_to_numpy(model[f\"layers.{layer}.feed_forward.w1.weight\"])\n",
    "    w2 = tensor_to_numpy(model[f\"layers.{layer}.feed_forward.w2.weight\"])\n",
    "    w3 = tensor_to_numpy(model[f\"layers.{layer}.feed_forward.w3.weight\"])\n",
    "    output_after_feedforward = np.matmul(silu(np.matmul(embedding_after_edit_normalized, w1.T)) * np.matmul(embedding_after_edit_normalized, w3.T), w2.T)\n",
    "    # 相加获得最终的embedding\n",
    "    final_embedding = embedding_after_edit+output_after_feedforward"
   ]
  },
  {
   "cell_type": "markdown",
   "metadata": {},
   "source": [
    "# 我们现在有了最终的嵌入，这是模型可以对下一个词元(token)做出的最佳猜测\n",
    "嵌入的形状与常规词元(token)嵌入 [17x4096] 相同，其中 17 是词元(token)数，4096 是嵌入维度\n",
    "<div>\n",
    "    <img src=\"images/last_norm.png\" width=\"600px\"/>\n",
    "</div>"
   ]
  },
  {
   "cell_type": "code",
   "execution_count": 855,
   "metadata": {},
   "outputs": [
    {
     "data": {
      "text/plain": [
       "(17, 4096)"
      ]
     },
     "execution_count": 855,
     "metadata": {},
     "output_type": "execute_result"
    }
   ],
   "source": [
    "# 归一化\n",
    "final_embedding = rms_norm(final_embedding, tensor_to_numpy(model[\"norm.weight\"]))\n",
    "final_embedding.shape"
   ]
  },
  {
   "cell_type": "markdown",
   "metadata": {},
   "source": [
    "# 最后，让我们解码嵌入到词元(token)值中\n",
    "<div>\n",
    "    <img src=\"images/finallayer.png\" width=\"600px\"/>\n",
    "</div>\n",
    "我们将使用输出解码器将最终嵌入转换为一个词元(token)"
   ]
  },
  {
   "cell_type": "code",
   "execution_count": 856,
   "metadata": {},
   "outputs": [
    {
     "data": {
      "text/plain": [
       "(128256, 4096)"
      ]
     },
     "execution_count": 856,
     "metadata": {},
     "output_type": "execute_result"
    }
   ],
   "source": [
    "tensor_to_numpy(model[\"output.weight\"]).shape"
   ]
  },
  {
   "cell_type": "markdown",
   "metadata": {},
   "source": [
    "# 我们使用最后一个词元(token)的嵌入来预测下一个值\n",
    "\n",
    "在理想的情况下，我们期望得到的值是，42 <br>\n",
    "note：42 是\"the answer to the ultimate question of life, the universe, and everything is \"的答案，根据《银河系漫游指南》一书得出的，大多数 MORDERN LLM 在这里会回答 42，来验证我们的整个代码！"
   ]
  },
  {
   "cell_type": "code",
   "execution_count": 857,
   "metadata": {},
   "outputs": [
    {
     "data": {
      "text/plain": [
       "(128256,)"
      ]
     },
     "execution_count": 857,
     "metadata": {},
     "output_type": "execute_result"
    }
   ],
   "source": [
    "# 最终的线性层相乘\n",
    "logits = np.matmul(final_embedding[-1], tensor_to_numpy(model[\"output.weight\"]).T)\n",
    "logits.shape"
   ]
  },
  {
   "cell_type": "markdown",
   "metadata": {},
   "source": [
    "### 模型预测下一个token为 2983 ，这是 42 的编码吗？"
   ]
  },
  {
   "cell_type": "code",
   "execution_count": 858,
   "metadata": {},
   "outputs": [
    {
     "data": {
      "text/plain": [
       "17"
      ]
     },
     "execution_count": 858,
     "metadata": {},
     "output_type": "execute_result"
    }
   ],
   "source": [
    "next_token = np.argmax(logits, axis=-1)\n",
    "next_token"
   ]
  },
  {
   "cell_type": "markdown",
   "metadata": {},
   "source": [
    "# 解码\n",
    "<div>\n",
    "    <img src=\"images/42.png\" width=\"600px\"/>\n",
    "</div>"
   ]
  },
  {
   "cell_type": "code",
   "execution_count": 859,
   "metadata": {},
   "outputs": [
    {
     "data": {
      "text/plain": [
       "'2'"
      ]
     },
     "execution_count": 859,
     "metadata": {},
     "output_type": "execute_result"
    }
   ],
   "source": [
    "tokenizer.decode([next_token.item()])"
   ]
  }
 ],
 "metadata": {
  "kernelspec": {
   "display_name": "Python 3",
   "language": "python",
   "name": "python3"
  },
  "language_info": {
   "codemirror_mode": {
    "name": "ipython",
    "version": 3
   },
   "file_extension": ".py",
   "mimetype": "text/x-python",
   "name": "python",
   "nbconvert_exporter": "python",
   "pygments_lexer": "ipython3",
   "version": "3.9.19"
  }
 },
 "nbformat": 4,
 "nbformat_minor": 2
}
